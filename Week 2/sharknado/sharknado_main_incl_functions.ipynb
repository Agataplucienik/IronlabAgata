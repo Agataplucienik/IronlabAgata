{
  "nbformat": 4,
  "nbformat_minor": 0,
  "metadata": {
    "colab": {
      "provenance": []
    },
    "kernelspec": {
      "name": "python3",
      "display_name": "Python 3"
    },
    "language_info": {
      "name": "python"
    }
  },
  "cells": [
    {
      "cell_type": "code",
      "source": [
        "import pandas as pd\n",
        "import re\n",
        "import seaborn as sns\n",
        "import matplotlib.pyplot as plt"
      ],
      "metadata": {
        "id": "mbi1s0ggwpt4"
      },
      "execution_count": null,
      "outputs": []
    },
    {
      "cell_type": "markdown",
      "source": [
        "## FUNCTIONS (export as sharknado_functions.py file in same folder, incl. first cell)"
      ],
      "metadata": {
        "id": "cov2zJkv92Sv"
      }
    },
    {
      "cell_type": "code",
      "source": [
        "def initial_cleaning(df):\n",
        "    \"\"\"\n",
        "    Removes duplicate rows. Removes columns with data we will not use such as\n",
        "    source information and files, columns with only missing values. Removes\n",
        "    rows with 7 missing values or more (50%). Re-indexes the datafile. Sets\n",
        "    all values to uppercase to account for differences in casing.\n",
        "    \"\"\"\n",
        "    df.drop_duplicates(inplace=True)\n",
        "    df = df.drop(['Unnamed: 11', 'Source', 'pdf', 'href formula', 'href', 'Case Number', 'Case Number.1', 'original order', 'Unnamed: 21', 'Unnamed: 22'], axis='columns')\n",
        "    df = df.dropna(thresh=7)\n",
        "    df.reset_index(drop=True, inplace=True)\n",
        "    df = df.applymap(lambda x: x.upper() if isinstance(x, str) else x)\n",
        "    return df"
      ],
      "metadata": {
        "id": "gBCJeRL6uCXb"
      },
      "execution_count": null,
      "outputs": []
    },
    {
      "cell_type": "code",
      "source": [
        "def column_selection(df):\n",
        "    \"\"\"\n",
        "    Selecting (few) specific columns of interest for the business case. Removing\n",
        "    rows if they have null values in two key variables for the business case.\n",
        "    \"\"\"\n",
        "    df = df[['Country', 'Type', 'State', 'Activity', \"Injury\"]]\n",
        "    df = df.dropna(subset=['Activity', 'State'], how='all')\n",
        "    return df"
      ],
      "metadata": {
        "id": "VPCmNGiXAjfP"
      },
      "execution_count": null,
      "outputs": []
    },
    {
      "cell_type": "code",
      "source": [
        "def country_selection(df):\n",
        "    \"\"\"\n",
        "    Further reducing the datafile to top 3 countries with most shark attacks.\n",
        "    Re-indexing the datafile.\n",
        "    \"\"\"\n",
        "    df = df[df['Country'].isin([\"USA\", \"AUSTRALIA\", \"SOUTH AFRICA\"])]\n",
        "    df.reset_index(drop=True, inplace=True)\n",
        "    return df"
      ],
      "metadata": {
        "id": "-JDuHCL0xD9U"
      },
      "execution_count": null,
      "outputs": []
    },
    {
      "cell_type": "code",
      "source": [
        "def column_cleaning_state(df):\n",
        "    \"\"\"\n",
        "    Removes leading and trailing whitespaces. Draws on lists with current states\n",
        "    of the target countries to only keep these for geomapping purposes. Then\n",
        "    keeps only pre-defined states in the states column, sets all other values\n",
        "    to null values and then drops rows with these null values as they are\n",
        "    not useful anymore for further analysis within the business case.\n",
        "    \"\"\"\n",
        "    df['State'] = df['State'].apply(lambda x: x.strip() if isinstance(x, str) else x)\n",
        "\n",
        "    states_USA = [\"Alaska\", \"Alabama\", \"Arkansas\", \"American Samoa\", \"Arizona\", \"California\", \"Colorado\", \"Connecticut\", \"District of Columbia\", \"Delaware\", \"Florida\", \"Georgia\", \"Guam\", \"Hawaii\", \"Iowa\", \"Idaho\", \"Illinois\", \"Indiana\", \"Kansas\", \"Kentucky\", \"Louisiana\", \"Massachusetts\", \"Maryland\", \"Maine\", \"Michigan\", \"Minnesota\", \"Missouri\", \"Mississippi\", \"Montana\", \"North Carolina\", \"North Dakota\", \"Nebraska\", \"New Hampshire\", \"New Jersey\", \"New Mexico\", \"Nevada\", \"New York\", \"Ohio\", \"Oklahoma\", \"Oregon\", \"Pennsylvania\", \"Puerto Rico\", \"Rhode Island\", \"South Carolina\", \"South Dakota\", \"Tennessee\", \"Texas\", \"Utah\", \"Virginia\", \"Virgin Islands\", \"Vermont\", \"Washington\", \"Wisconsin\", \"West Virginia\", \"Wyoming\"]\n",
        "    states_AUSTRALIA = [\"New South Wales\", \"Victoria\", \"Queensland\", \"Western Australia\", \"South Australia\", \"Tasmania\"]\n",
        "    states_SOUTH_AFRICA = [\"Kwazulu-natal\", \"Western Cape Province\", \"Eastern Cape Province\", \"Free State\", \"Gauteng\", \"Limpopo\", \"Mpumalanga\", \"Northern Cape\", \"North West\"]\n",
        "    all_the_states = states_USA + states_AUSTRALIA + states_SOUTH_AFRICA\n",
        "    all_the_states_upper = list(map(lambda x: x.upper(), all_the_states))\n",
        "    df['State'] = df['State'].apply(lambda x: x.upper() if x in all_the_states_upper else None)\n",
        "    df = df.dropna(subset=['State'])\n",
        "    return df"
      ],
      "metadata": {
        "id": "nGkhwWkJyBsH"
      },
      "execution_count": null,
      "outputs": []
    },
    {
      "cell_type": "code",
      "source": [
        "def column_cleaning_type(df):\n",
        "    \"\"\"\n",
        "    Unifies values based on the sharkfile author's suggestions. Additionally,\n",
        "    creates an extra column turning the values into binary format (0/1).\n",
        "    Missing values will be treated as unprovoked (i.e., only \"provoked\" when\n",
        "    there is secure information in place).\n",
        "    \"\"\"\n",
        "    type_mapping_dict = {\n",
        "    'BOAT': 'WATERCRAFT',\n",
        "    'INVALID': 'INVALID/QUESTIONABLE',\n",
        "    'UNCONFIRMED': 'INVALID/QUESTIONABLE',\n",
        "    'UNVERIFIED': 'INVALID/QUESTIONABLE',\n",
        "    'QUESTIONABLE': 'INVALID/QUESTIONABLE',\n",
        "    'UNDER INVESTIGATION': 'INVALID/QUESTIONABLE',\n",
        "    }\n",
        "    df['Type'] = df['Type'].apply(lambda x: type_mapping_dict.get(x,x))\n",
        "\n",
        "    df['Type_binary'] = df['Type'].apply(lambda x: 1 if x == 'PROVOKED' else 0)\n",
        "    return df"
      ],
      "metadata": {
        "id": "pjgtiMQD1PeG"
      },
      "execution_count": null,
      "outputs": []
    },
    {
      "cell_type": "code",
      "source": [
        "def column_cleaning_activity(df):\n",
        "    \"\"\"\n",
        "    Removes leading/trailing whitespaces. Subsumes strings containing related\n",
        "    activities under main categories. Groups remaining values as \"other\".\n",
        "    \"\"\"\n",
        "    df['Activity'] = df['Activity'].apply(lambda x: x.strip() if isinstance(x, str) else x)\n",
        "\n",
        "    category_pattern = \"SURF\"\n",
        "    similar_activities= set()\n",
        "    for value in df['Activity']:\n",
        "        if type(value) == str and value != \"SURFING\" and re.search(category_pattern, value):\n",
        "            similar_activities.add(value)\n",
        "    similar_activities_SURFING = list(similar_activities)\n",
        "    df['Activity'] = df['Activity'].apply(lambda x: 'SURFING' if x in similar_activities_SURFING else x)\n",
        "\n",
        "    category_pattern = \"BOARDING\"\n",
        "    similar_activities= set()\n",
        "    for value in df['Activity']:\n",
        "        if type(value) == str and value != \"BOARDING\" and re.search(category_pattern, value):\n",
        "            similar_activities.add(value)\n",
        "    similar_activities_BOARDING = list(similar_activities)\n",
        "    df['Activity'] = df['Activity'].apply(lambda x: 'SURFING' if x in similar_activities_BOARDING else x)\n",
        "\n",
        "    category_pattern = \"SWIMMING\"\n",
        "    similar_activities= set()\n",
        "    for value in df['Activity']:\n",
        "        if type(value) == str and value != \"SWIMMING\" and re.search(category_pattern, value):\n",
        "            similar_activities.add(value)\n",
        "    similar_activities_SWIMMING = list(similar_activities)\n",
        "    df['Activity'] = df['Activity'].apply(lambda x: 'SWIMMING' if x in similar_activities_SWIMMING else x)\n",
        "\n",
        "    category_pattern = \"FISHING\"\n",
        "    similar_activities= set()\n",
        "    for value in df['Activity']:\n",
        "        if type(value) == str and value != \"FISHING\" and re.search(category_pattern, value):\n",
        "            similar_activities.add(value)\n",
        "    similar_activities_FISHING = list(similar_activities)\n",
        "    df['Activity'] = df['Activity'].apply(lambda x: 'FISHING' if x in similar_activities_FISHING else x)\n",
        "\n",
        "    category_pattern = \"DIVING\"\n",
        "    similar_activities= set()\n",
        "    for value in df['Activity']:\n",
        "        if type(value) == str and value != \"DIVING\" and re.search(category_pattern, value):\n",
        "            similar_activities.add(value)\n",
        "    similar_activities_DIVING = list(similar_activities)\n",
        "    df['Activity'] = df['Activity'].apply(lambda x: 'DIVING' if x in similar_activities_DIVING else x)\n",
        "\n",
        "    category_pattern = \"SNORKEL\"\n",
        "    similar_activities= set()\n",
        "    for value in df['Activity']:\n",
        "        if type(value) == str and value != \"SNORKEL\" and re.search(category_pattern, value):\n",
        "            similar_activities.add(value)\n",
        "    similar_activities_SNORKELING = list(similar_activities)\n",
        "    df['Activity'] = df['Activity'].apply(lambda x: 'DIVING' if x in similar_activities_SNORKELING else x)\n",
        "\n",
        "    category_pattern = \"WADING\"\n",
        "    similar_activities= set()\n",
        "    for value in df['Activity']:\n",
        "        if type(value) == str and value != \"WADING\" and re.search(category_pattern, value):\n",
        "            similar_activities.add(value)\n",
        "    similar_activities_WADING = list(similar_activities)\n",
        "    df['Activity'] = df['Activity'].apply(lambda x: 'SHALLOW WATER' if (x in similar_activities_WADING or x == 'WADING') else x)\n",
        "\n",
        "    category_pattern = \"STANDING\"\n",
        "    similar_activities= set()\n",
        "    for value in df['Activity']:\n",
        "        if type(value) == str and value != \"STANDING\" and re.search(category_pattern, value):\n",
        "            similar_activities.add(value)\n",
        "    similar_activities_STANDING = list(similar_activities)\n",
        "    df['Activity'] = df['Activity'].apply(lambda x: 'SHALLOW WATER' if (x in similar_activities_STANDING or x == 'STANDING') else x)\n",
        "\n",
        "    category_pattern = \"BATHING\"\n",
        "    similar_activities= set()\n",
        "    for value in df['Activity']:\n",
        "        if type(value) == str and value != \"BATHING\" and re.search(category_pattern, value):\n",
        "            similar_activities.add(value)\n",
        "    similar_activities_BATHING = list(similar_activities)\n",
        "    df['Activity'] = df['Activity'].apply(lambda x: 'SHALLOW WATER' if (x in similar_activities_BATHING or x == 'BATHING') else x)\n",
        "\n",
        "    defined_activities = ['SURFING', 'SWIMMING', 'FISHING', 'DIVING', 'SHALLOW WATER']\n",
        "    df['Activity'] = df['Activity'].apply(lambda x: 'OTHER' if x not in defined_activities else x)\n",
        "\n",
        "    return df"
      ],
      "metadata": {
        "id": "cREvzxZx29Cl"
      },
      "execution_count": null,
      "outputs": []
    },
    {
      "cell_type": "code",
      "source": [
        "def column_cleaning_injury(df):\n",
        "    \"\"\"\n",
        "    Removes leading/trailing whitespaces. Subsumes strings containing related\n",
        "    expressions under main categories. Additionally, creates an extra column\n",
        "    turning the values into binary format (0/1). Missing values will be treated\n",
        "    as not fatal (i.e., only \"fatal\" when there is secure information in place.\n",
        "    \"\"\"\n",
        "    df['Injury'] = df['Injury'].apply(lambda x: x.strip() if isinstance(x, str) else x)\n",
        "\n",
        "    category_pattern = \"FATAL\"\n",
        "    similar_expressions= set()\n",
        "    for value in df['Injury']:\n",
        "        if type(value) == str and value != \"FATAL\" and re.search(category_pattern, value):\n",
        "            similar_expressions.add(value)\n",
        "    similar_expressions_FATAL = list(similar_expressions)\n",
        "    df['Injury'] = df['Injury'].apply(lambda x: 'FATAL' if x in similar_expressions_FATAL else x)\n",
        "\n",
        "    category_pattern = \"DEATH\"\n",
        "    similar_expressions= set()\n",
        "    for value in df['Injury']:\n",
        "        if type(value) == str and value != \"DEATH\" and re.search(category_pattern, value):\n",
        "            similar_expressions.add(value)\n",
        "    similar_expressions_DEATH = list(similar_expressions)\n",
        "    df['Injury'] = df['Injury'].apply(lambda x: 'FATAL' if x in similar_expressions_DEATH else x)\n",
        "\n",
        "    df['Injury_binary'] = df['Injury'].apply(lambda x: 1 if x == 'FATAL' else 0)\n",
        "    return df"
      ],
      "metadata": {
        "id": "qrfT3z1Y6AoT"
      },
      "execution_count": null,
      "outputs": []
    },
    {
      "cell_type": "code",
      "source": [
        "def final_cleaning(df):\n",
        "    \"\"\"\n",
        "    Drops the (few) last missing values in the dataset.\n",
        "    \"\"\"\n",
        "    df = df.dropna(subset=['Type', 'Injury'])\n",
        "    return df"
      ],
      "metadata": {
        "id": "FRxXiDiF7arw"
      },
      "execution_count": null,
      "outputs": []
    },
    {
      "cell_type": "code",
      "source": [
        "def full_data_cleaning(df):\n",
        "    \"\"\"\n",
        "    Cleanes the data file according to the business case and prepares it for\n",
        "    exploratory data analysis.\n",
        "    \"\"\"\n",
        "    df = initial_cleaning(df)\n",
        "    df = column_selection(df)\n",
        "\n",
        "    df = country_selection(df)\n",
        "    df = column_cleaning_state(df)\n",
        "    df = column_cleaning_type(df)\n",
        "    df = column_cleaning_activity(df)\n",
        "    df = column_cleaning_injury(df)\n",
        "\n",
        "    df = final_cleaning(df)\n",
        "    return df"
      ],
      "metadata": {
        "id": "5LgJIR8D-V0M"
      },
      "execution_count": null,
      "outputs": []
    },
    {
      "cell_type": "code",
      "source": [
        "def eda(df):\n",
        "    \"\"\"\n",
        "    Plots incident count by activity type. Plots fatalities per country. Prints\n",
        "    shares of injury types.\n",
        "    \"\"\"\n",
        "    print(\"Incident count by activity:\")\n",
        "    top_activities = df['Activity'].value_counts().head(10).reset_index()\n",
        "    top_activities.rename(columns={\"index\":\"Activity Type\",\"Activity\":\"Incident Count\"},inplace=True)\n",
        "    sns.barplot(top_activities,x = top_activities['Activity Type'],y = top_activities[\"Incident Count\"])\n",
        "    plt.xticks(rotation=45)\n",
        "    plt.show()\n",
        "\n",
        "    print(\"Fatality count by country:\")\n",
        "    fsa = df[['Country', 'Injury_binary']]\n",
        "    fatal_fsa = fsa.loc[fsa['Injury_binary'] == 1]\n",
        "    to_plot = fatal_fsa['Country'].value_counts()\n",
        "    p = sns.barplot(data=to_plot, x=to_plot.index, y=to_plot.values)\n",
        "    plt.xticks(range(len(to_plot.index)), to_plot.index)\n",
        "    plt.show()\n",
        "\n",
        "    print(\"Injury types in %:\")\n",
        "    print(df['Injury'].value_counts(normalize=True) * 100)\n",
        "    print()"
      ],
      "metadata": {
        "id": "AFyIKbOC7-KC"
      },
      "execution_count": null,
      "outputs": []
    },
    {
      "cell_type": "markdown",
      "source": [
        "## MAIN FILE"
      ],
      "metadata": {
        "id": "U_RNMa1_99nE"
      }
    },
    {
      "cell_type": "code",
      "source": [
        "%load_ext autoreload\n",
        "%autoreload 2"
      ],
      "metadata": {
        "id": "CSorDAZ4Rkwv"
      },
      "execution_count": null,
      "outputs": []
    },
    {
      "cell_type": "code",
      "source": [
        "import pandas as pd\n",
        "#import sharknado_functions\n",
        "df = pd.read_excel(r\"https://www.sharkattackfile.net/spreadsheets/GSAF5.xls\")"
      ],
      "metadata": {
        "id": "4GBkc1gKtqcy"
      },
      "execution_count": null,
      "outputs": []
    },
    {
      "cell_type": "code",
      "source": [
        "#df = sharknado_functions.full_data_cleaning(df)\n",
        "#sharknado_functions.eda(df)"
      ],
      "metadata": {
        "id": "gwWyuILL_HGe"
      },
      "execution_count": null,
      "outputs": []
    },
    {
      "cell_type": "code",
      "source": [
        "df = full_data_cleaning(df)\n",
        "eda(df)"
      ],
      "metadata": {
        "id": "HWdDuYWExE9n",
        "colab": {
          "base_uri": "https://localhost:8080/",
          "height": 1000
        },
        "outputId": "5862064f-f323-4114-89a5-290f94cb0276"
      },
      "execution_count": null,
      "outputs": [
        {
          "output_type": "stream",
          "name": "stdout",
          "text": [
            "Incident count by activity:\n"
          ]
        },
        {
          "output_type": "display_data",
          "data": {
            "text/plain": [
              "<Figure size 640x480 with 1 Axes>"
            ],
            "image/png": "[encoded data removed]"
          },
          "metadata": {}
        },
        {
          "output_type": "stream",
          "name": "stdout",
          "text": [
            "Fatality count by country:\n"
          ]
        },
        {
          "output_type": "display_data",
          "data": {
            "text/plain": [
              "<Figure size 640x480 with 1 Axes>"
            ],
            "image/png": "[encoded data removed]"
          },
          "metadata": {}
        },
        {
          "output_type": "stream",
          "name": "stdout",
          "text": [
            "Injury types in %:\n",
            "FATAL                                                          14.143019\n",
            "FOOT BITTEN                                                     1.884222\n",
            "NO INJURY                                                       1.248581\n",
            "SURVIVED                                                        1.112372\n",
            "LEFT FOOT BITTEN                                                1.089671\n",
            "                                                                 ...    \n",
            "HAND, THIGH & CALF BITTEN BY HOOKED SHARK PROVOKED INCIDENT     0.022701\n",
            "MINOR INJURIES, SURFBOARD BITTEN                                0.022701\n",
            "NO INJURY, SHARK REMOVED PIECE OF SURFBOARD                     0.022701\n",
            "HEAD & TORSO BITTEN                                             0.022701\n",
            "\"LOST LEG\"                                                      0.022701\n",
            "Name: Injury, Length: 2520, dtype: float64\n",
            "\n"
          ]
        }
      ]
    }
  ]
}