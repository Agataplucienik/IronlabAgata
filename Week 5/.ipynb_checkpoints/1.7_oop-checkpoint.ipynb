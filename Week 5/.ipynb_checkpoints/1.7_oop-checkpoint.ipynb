{
 "cells": [
  {
   "cell_type": "markdown",
   "metadata": {
    "toc": true
   },
   "source": [
    "<h1>Table of Contents<span class=\"tocSkip\"></span></h1>\n",
    "<div class=\"toc\"><ul class=\"toc-item\"><li><span><a href=\"#Object-Oriented-Programming-(OOP)\" data-toc-modified-id=\"Object-Oriented-Programming-(OOP)-1\"><span class=\"toc-item-num\">1&nbsp;&nbsp;</span>Object-Oriented Programming (OOP)</a></span><ul class=\"toc-item\"><li><span><a href=\"#What-is-Object-Oriented-Programming-(OOP)?\" data-toc-modified-id=\"What-is-Object-Oriented-Programming-(OOP)?-1.1\"><span class=\"toc-item-num\">1.1&nbsp;&nbsp;</span>What is Object-Oriented Programming (OOP)?</a></span><ul class=\"toc-item\"><li><span><a href=\"#Example-with-cookies\" data-toc-modified-id=\"Example-with-cookies-1.1.1\"><span class=\"toc-item-num\">1.1.1&nbsp;&nbsp;</span>Example with cookies</a></span></li><li><span><a href=\"#Example-lists\" data-toc-modified-id=\"Example-lists-1.1.2\"><span class=\"toc-item-num\">1.1.2&nbsp;&nbsp;</span>Example lists</a></span></li><li><span><a href=\"#Example-with-floats\" data-toc-modified-id=\"Example-with-floats-1.1.3\"><span class=\"toc-item-num\">1.1.3&nbsp;&nbsp;</span>Example with floats</a></span></li><li><span><a href=\"#Example-with-Strings\" data-toc-modified-id=\"Example-with-Strings-1.1.4\"><span class=\"toc-item-num\">1.1.4&nbsp;&nbsp;</span>Example with Strings</a></span></li><li><span><a href=\"#Methods-and-Attributes\" data-toc-modified-id=\"Methods-and-Attributes-1.1.5\"><span class=\"toc-item-num\">1.1.5&nbsp;&nbsp;</span>Methods and Attributes</a></span></li><li><span><a href=\"#Important:-method-vs-function-vs-attribute\" data-toc-modified-id=\"Important:-method-vs-function-vs-attribute-1.1.6\"><span class=\"toc-item-num\">1.1.6&nbsp;&nbsp;</span>Important: method vs function vs attribute</a></span></li><li><span><a href=\"#Mini-recap\" data-toc-modified-id=\"Mini-recap-1.1.7\"><span class=\"toc-item-num\">1.1.7&nbsp;&nbsp;</span>Mini-recap</a></span></li></ul></li><li><span><a href=\"#Creating-Classes-and-Objects\" data-toc-modified-id=\"Creating-Classes-and-Objects-1.2\"><span class=\"toc-item-num\">1.2&nbsp;&nbsp;</span>Creating Classes and Objects</a></span></li><li><span><a href=\"#Creating-Objects-(Instances)\" data-toc-modified-id=\"Creating-Objects-(Instances)-1.3\"><span class=\"toc-item-num\">1.3&nbsp;&nbsp;</span>Creating Objects (Instances)</a></span></li><li><span><a href=\"#Accessing-Attributes-and-Methods\" data-toc-modified-id=\"Accessing-Attributes-and-Methods-1.4\"><span class=\"toc-item-num\">1.4&nbsp;&nbsp;</span>Accessing Attributes and Methods</a></span></li><li><span><a href=\"#More\" data-toc-modified-id=\"More-1.5\"><span class=\"toc-item-num\">1.5&nbsp;&nbsp;</span>More</a></span><ul class=\"toc-item\"><li><span><a href=\"#Default-attributes\" data-toc-modified-id=\"Default-attributes-1.5.1\"><span class=\"toc-item-num\">1.5.1&nbsp;&nbsp;</span>Default attributes</a></span></li><li><span><a href=\"#Instance-vs.-Class-Attributes-and-Methods\" data-toc-modified-id=\"Instance-vs.-Class-Attributes-and-Methods-1.5.2\"><span class=\"toc-item-num\">1.5.2&nbsp;&nbsp;</span>Instance vs. Class Attributes and Methods</a></span></li></ul></li><li><span><a href=\"#💡-Check-for-understanding\" data-toc-modified-id=\"💡-Check-for-understanding-1.6\"><span class=\"toc-item-num\">1.6&nbsp;&nbsp;</span>💡 Check for understanding</a></span><ul class=\"toc-item\"><li><span><a href=\"#Easy-exercise\" data-toc-modified-id=\"Easy-exercise-1.6.1\"><span class=\"toc-item-num\">1.6.1&nbsp;&nbsp;</span>Easy exercise</a></span></li><li><span><a href=\"#Medium-exercise\" data-toc-modified-id=\"Medium-exercise-1.6.2\"><span class=\"toc-item-num\">1.6.2&nbsp;&nbsp;</span>Medium exercise</a></span></li></ul></li></ul></li><li><span><a href=\"#Summary\" data-toc-modified-id=\"Summary-2\"><span class=\"toc-item-num\">2&nbsp;&nbsp;</span>Summary</a></span></li><li><span><a href=\"#Extra:-Inheritance\" data-toc-modified-id=\"Extra:-Inheritance-3\"><span class=\"toc-item-num\">3&nbsp;&nbsp;</span>Extra: Inheritance</a></span><ul class=\"toc-item\"><li><span><a href=\"#Inheriting-Methods\" data-toc-modified-id=\"Inheriting-Methods-3.1\"><span class=\"toc-item-num\">3.1&nbsp;&nbsp;</span>Inheriting Methods</a></span></li><li><span><a href=\"#Super()-method\" data-toc-modified-id=\"Super()-method-3.2\"><span class=\"toc-item-num\">3.2&nbsp;&nbsp;</span>Super() method</a></span></li><li><span><a href=\"#Example\" data-toc-modified-id=\"Example-3.3\"><span class=\"toc-item-num\">3.3&nbsp;&nbsp;</span>Example</a></span></li><li><span><a href=\"#Furthermaterials\" data-toc-modified-id=\"Furthermaterials-3.4\"><span class=\"toc-item-num\">3.4&nbsp;&nbsp;</span>Furthermaterials</a></span><ul class=\"toc-item\"><li><span><a href=\"#Advanced-Methods-@classmethod-@staticmethod\" data-toc-modified-id=\"Advanced-Methods-@classmethod-@staticmethod-3.4.1\"><span class=\"toc-item-num\">3.4.1&nbsp;&nbsp;</span>Advanced Methods @classmethod @staticmethod</a></span></li></ul></li></ul></li></ul></div>"
   ]
  },
  {
   "cell_type": "markdown",
   "metadata": {
    "lang": "en"
   },
   "source": [
    "# Object-Oriented Programming (OOP)"
   ]
  },
  {
   "cell_type": "markdown",
   "metadata": {},
   "source": [
    "![clases](https://files.realpython.com/media/Object-Oriented-Programming-OOP-in-Python-3_Watermarked.0d29780806d5.jpg)"
   ]
  },
  {
   "cell_type": "markdown",
   "metadata": {},
   "source": [
    "## What is Object-Oriented Programming (OOP)?"
   ]
  },
  {
   "cell_type": "markdown",
   "metadata": {},
   "source": [
    "Object-Oriented Programming (OOP) is a programming paradigm, i.e. an approach or style of writing code that guides how programmers solve problems using a programming language. \n",
    "\n",
    "- It is based on the concept of **objects**, which can store both data (**attributes**) and the functions (**methods**) that work with that data.\n",
    "\n",
    "- Objects are **instances** of **classes**. A class is a blueprint or template that defines the structure and behavior of objects. The class defines what data the object can hold (attributes) and what actions it can perform (methods).\n",
    "\n",
    "Thanks to this, we can group related data and functions together under a single data type (the object \"class\"). i.e. By using this blueprint, called a **class**, we can create many **objects** of the same type. This makes our code more modular and easier to reuse, like building blocks we can use again and again."
   ]
  },
  {
   "cell_type": "markdown",
   "metadata": {},
   "source": [
    "![](https://github.com/data-bootcamp-v4/lessons/blob/main/img/oop.png?raw=true)"
   ]
  },
  {
   "cell_type": "markdown",
   "metadata": {},
   "source": [
    "### Example with cookies"
   ]
  },
  {
   "cell_type": "markdown",
   "metadata": {},
   "source": [
    "Think of classes as cookie cutters, and objects as the cookies they create. All cookies made from the same cutter have the same shape (the class's design), but after baking, each cookie becomes unique with different colors, textures, and flavors (the object's individual attributes). So, a class is like a recipe that explains how the objects made from it should look and behave."
   ]
  },
  {
   "cell_type": "markdown",
   "metadata": {},
   "source": [
    "### Example lists"
   ]
  },
  {
   "cell_type": "markdown",
   "metadata": {},
   "source": [
    "Let's take a built-in **class** in Python called `list`. \n",
    "\n",
    "We can use the `help()` function to look into what a list is or the `dir()` function that returns all properties and methods of the specified object.\n"
   ]
  },
  {
   "cell_type": "code",
   "execution_count": 1,
   "metadata": {},
   "outputs": [
    {
     "name": "stdout",
     "output_type": "stream",
     "text": [
      "Help on class list in module builtins:\n",
      "\n",
      "class list(object)\n",
      " |  list(iterable=(), /)\n",
      " |  \n",
      " |  Built-in mutable sequence.\n",
      " |  \n",
      " |  If no argument is given, the constructor creates a new empty list.\n",
      " |  The argument must be an iterable if specified.\n",
      " |  \n",
      " |  Methods defined here:\n",
      " |  \n",
      " |  __add__(self, value, /)\n",
      " |      Return self+value.\n",
      " |  \n",
      " |  __contains__(self, key, /)\n",
      " |      Return key in self.\n",
      " |  \n",
      " |  __delitem__(self, key, /)\n",
      " |      Delete self[key].\n",
      " |  \n",
      " |  __eq__(self, value, /)\n",
      " |      Return self==value.\n",
      " |  \n",
      " |  __ge__(self, value, /)\n",
      " |      Return self>=value.\n",
      " |  \n",
      " |  __getattribute__(self, name, /)\n",
      " |      Return getattr(self, name).\n",
      " |  \n",
      " |  __getitem__(...)\n",
      " |      x.__getitem__(y) <==> x[y]\n",
      " |  \n",
      " |  __gt__(self, value, /)\n",
      " |      Return self>value.\n",
      " |  \n",
      " |  __iadd__(self, value, /)\n",
      " |      Implement self+=value.\n",
      " |  \n",
      " |  __imul__(self, value, /)\n",
      " |      Implement self*=value.\n",
      " |  \n",
      " |  __init__(self, /, *args, **kwargs)\n",
      " |      Initialize self.  See help(type(self)) for accurate signature.\n",
      " |  \n",
      " |  __iter__(self, /)\n",
      " |      Implement iter(self).\n",
      " |  \n",
      " |  __le__(self, value, /)\n",
      " |      Return self<=value.\n",
      " |  \n",
      " |  __len__(self, /)\n",
      " |      Return len(self).\n",
      " |  \n",
      " |  __lt__(self, value, /)\n",
      " |      Return self<value.\n",
      " |  \n",
      " |  __mul__(self, value, /)\n",
      " |      Return self*value.\n",
      " |  \n",
      " |  __ne__(self, value, /)\n",
      " |      Return self!=value.\n",
      " |  \n",
      " |  __repr__(self, /)\n",
      " |      Return repr(self).\n",
      " |  \n",
      " |  __reversed__(self, /)\n",
      " |      Return a reverse iterator over the list.\n",
      " |  \n",
      " |  __rmul__(self, value, /)\n",
      " |      Return value*self.\n",
      " |  \n",
      " |  __setitem__(self, key, value, /)\n",
      " |      Set self[key] to value.\n",
      " |  \n",
      " |  __sizeof__(self, /)\n",
      " |      Return the size of the list in memory, in bytes.\n",
      " |  \n",
      " |  append(self, object, /)\n",
      " |      Append object to the end of the list.\n",
      " |  \n",
      " |  clear(self, /)\n",
      " |      Remove all items from list.\n",
      " |  \n",
      " |  copy(self, /)\n",
      " |      Return a shallow copy of the list.\n",
      " |  \n",
      " |  count(self, value, /)\n",
      " |      Return number of occurrences of value.\n",
      " |  \n",
      " |  extend(self, iterable, /)\n",
      " |      Extend list by appending elements from the iterable.\n",
      " |  \n",
      " |  index(self, value, start=0, stop=9223372036854775807, /)\n",
      " |      Return first index of value.\n",
      " |      \n",
      " |      Raises ValueError if the value is not present.\n",
      " |  \n",
      " |  insert(self, index, object, /)\n",
      " |      Insert object before index.\n",
      " |  \n",
      " |  pop(self, index=-1, /)\n",
      " |      Remove and return item at index (default last).\n",
      " |      \n",
      " |      Raises IndexError if list is empty or index is out of range.\n",
      " |  \n",
      " |  remove(self, value, /)\n",
      " |      Remove first occurrence of value.\n",
      " |      \n",
      " |      Raises ValueError if the value is not present.\n",
      " |  \n",
      " |  reverse(self, /)\n",
      " |      Reverse *IN PLACE*.\n",
      " |  \n",
      " |  sort(self, /, *, key=None, reverse=False)\n",
      " |      Stable sort *IN PLACE*.\n",
      " |  \n",
      " |  ----------------------------------------------------------------------\n",
      " |  Static methods defined here:\n",
      " |  \n",
      " |  __new__(*args, **kwargs) from builtins.type\n",
      " |      Create and return a new object.  See help(type) for accurate signature.\n",
      " |  \n",
      " |  ----------------------------------------------------------------------\n",
      " |  Data and other attributes defined here:\n",
      " |  \n",
      " |  __hash__ = None\n",
      "\n"
     ]
    }
   ],
   "source": [
    "help(list)"
   ]
  },
  {
   "cell_type": "markdown",
   "metadata": {},
   "source": [
    "*Double under score -> internal python thingies. The double underscore (`__`) is used for special or \"magic\" methods in Python, which allow customization of object behavior for built-in functionalities. Not covered in this bootcamp.*"
   ]
  },
  {
   "cell_type": "code",
   "execution_count": 2,
   "metadata": {},
   "outputs": [
    {
     "data": {
      "text/plain": [
       "['__add__',\n",
       " '__class__',\n",
       " '__contains__',\n",
       " '__delattr__',\n",
       " '__delitem__',\n",
       " '__dir__',\n",
       " '__doc__',\n",
       " '__eq__',\n",
       " '__format__',\n",
       " '__ge__',\n",
       " '__getattribute__',\n",
       " '__getitem__',\n",
       " '__gt__',\n",
       " '__hash__',\n",
       " '__iadd__',\n",
       " '__imul__',\n",
       " '__init__',\n",
       " '__init_subclass__',\n",
       " '__iter__',\n",
       " '__le__',\n",
       " '__len__',\n",
       " '__lt__',\n",
       " '__mul__',\n",
       " '__ne__',\n",
       " '__new__',\n",
       " '__reduce__',\n",
       " '__reduce_ex__',\n",
       " '__repr__',\n",
       " '__reversed__',\n",
       " '__rmul__',\n",
       " '__setattr__',\n",
       " '__setitem__',\n",
       " '__sizeof__',\n",
       " '__str__',\n",
       " '__subclasshook__',\n",
       " 'append',\n",
       " 'clear',\n",
       " 'copy',\n",
       " 'count',\n",
       " 'extend',\n",
       " 'index',\n",
       " 'insert',\n",
       " 'pop',\n",
       " 'remove',\n",
       " 'reverse',\n",
       " 'sort']"
      ]
     },
     "execution_count": 2,
     "metadata": {},
     "output_type": "execute_result"
    }
   ],
   "source": [
    "dir(list) "
   ]
  },
  {
   "cell_type": "code",
   "execution_count": 3,
   "metadata": {},
   "outputs": [
    {
     "data": {
      "text/plain": [
       "['append',\n",
       " 'clear',\n",
       " 'copy',\n",
       " 'count',\n",
       " 'extend',\n",
       " 'index',\n",
       " 'insert',\n",
       " 'pop',\n",
       " 'remove',\n",
       " 'reverse',\n",
       " 'sort']"
      ]
     },
     "execution_count": 3,
     "metadata": {},
     "output_type": "execute_result"
    }
   ],
   "source": [
    "# dir returns a list, what if we don't want to look at __... ?\n",
    "\n",
    "[element for element in dir(list) if \"_\" not in element]"
   ]
  },
  {
   "cell_type": "markdown",
   "metadata": {},
   "source": [
    "We can see information about the `list` **class** including various **methods** you can use to manipulate lists in Python."
   ]
  },
  {
   "cell_type": "markdown",
   "metadata": {},
   "source": [
    "We can create objects of the `list` class without defining the class ourselves:"
   ]
  },
  {
   "cell_type": "code",
   "execution_count": 4,
   "metadata": {},
   "outputs": [],
   "source": [
    "# Creating objects of the built-in class 'list'\n",
    "numbers = [1, 2, 3, 4, 5]  # 'numbers' is an object of the 'list' class\n",
    "names = [\"Alice\", \"Bob\", \"Charlie\"]  # 'names' is another object of the 'list' class"
   ]
  },
  {
   "cell_type": "code",
   "execution_count": 5,
   "metadata": {},
   "outputs": [
    {
     "name": "stdout",
     "output_type": "stream",
     "text": [
      "<class 'list'>\n",
      "<class 'list'>\n"
     ]
    }
   ],
   "source": [
    "print(type(numbers))\n",
    "print(type(names))"
   ]
  },
  {
   "cell_type": "code",
   "execution_count": 6,
   "metadata": {},
   "outputs": [],
   "source": [
    "# Using list methods\n",
    "numbers.append(6)  # Adding an element to the list\n",
    "names.append(\"Anna\") # Adding an element to the list"
   ]
  },
  {
   "cell_type": "markdown",
   "metadata": {},
   "source": [
    "We just said that:\n",
    "\n",
    "- *It is based on the concept of **objects**, which can store both data (**attributes**) and the functions (**methods**) that work with that data.*\n",
    "\n",
    "In our example, we defined an **object** *numbers* and another **object** *names* and we saw the **method** *append*.\n",
    "\n",
    "- *Objets are **instances** of **classes**. A class is a blueprint or template that defines the structure and behavior of objects. The class defines what data the object can hold (attributes) and what actions it can perform (methods).*\n",
    "\n",
    "In our example, our **objects** *numbers* and *names* are an instances of the **class** *list*. The *list* **class** is the template that defines what the objects can or can`t do.\n",
    "\n",
    "By using this blueprint, the **class** *list*, we can create many **objects** (*numbers*, *names*,...) of the same type."
   ]
  },
  {
   "cell_type": "markdown",
   "metadata": {},
   "source": [
    "### Example with floats"
   ]
  },
  {
   "cell_type": "code",
   "execution_count": 7,
   "metadata": {},
   "outputs": [
    {
     "data": {
      "text/plain": [
       "['__abs__',\n",
       " '__add__',\n",
       " '__bool__',\n",
       " '__class__',\n",
       " '__delattr__',\n",
       " '__dir__',\n",
       " '__divmod__',\n",
       " '__doc__',\n",
       " '__eq__',\n",
       " '__float__',\n",
       " '__floordiv__',\n",
       " '__format__',\n",
       " '__ge__',\n",
       " '__getattribute__',\n",
       " '__getformat__',\n",
       " '__getnewargs__',\n",
       " '__gt__',\n",
       " '__hash__',\n",
       " '__init__',\n",
       " '__init_subclass__',\n",
       " '__int__',\n",
       " '__le__',\n",
       " '__lt__',\n",
       " '__mod__',\n",
       " '__mul__',\n",
       " '__ne__',\n",
       " '__neg__',\n",
       " '__new__',\n",
       " '__pos__',\n",
       " '__pow__',\n",
       " '__radd__',\n",
       " '__rdivmod__',\n",
       " '__reduce__',\n",
       " '__reduce_ex__',\n",
       " '__repr__',\n",
       " '__rfloordiv__',\n",
       " '__rmod__',\n",
       " '__rmul__',\n",
       " '__round__',\n",
       " '__rpow__',\n",
       " '__rsub__',\n",
       " '__rtruediv__',\n",
       " '__set_format__',\n",
       " '__setattr__',\n",
       " '__sizeof__',\n",
       " '__str__',\n",
       " '__sub__',\n",
       " '__subclasshook__',\n",
       " '__truediv__',\n",
       " '__trunc__',\n",
       " 'as_integer_ratio',\n",
       " 'conjugate',\n",
       " 'fromhex',\n",
       " 'hex',\n",
       " 'imag',\n",
       " 'is_integer',\n",
       " 'real']"
      ]
     },
     "execution_count": 7,
     "metadata": {},
     "output_type": "execute_result"
    }
   ],
   "source": [
    "dir(float)"
   ]
  },
  {
   "cell_type": "code",
   "execution_count": 8,
   "metadata": {},
   "outputs": [
    {
     "name": "stdout",
     "output_type": "stream",
     "text": [
      "<class 'float'>\n"
     ]
    }
   ],
   "source": [
    "f = 3.18 # This is an object of class float\n",
    "\n",
    "print(type(f))"
   ]
  },
  {
   "cell_type": "code",
   "execution_count": 9,
   "metadata": {},
   "outputs": [
    {
     "data": {
      "text/plain": [
       "False"
      ]
     },
     "execution_count": 9,
     "metadata": {},
     "output_type": "execute_result"
    }
   ],
   "source": [
    "f.is_integer() # This a method"
   ]
  },
  {
   "cell_type": "code",
   "execution_count": 10,
   "metadata": {},
   "outputs": [
    {
     "data": {
      "text/plain": [
       "3.18"
      ]
     },
     "execution_count": 10,
     "metadata": {},
     "output_type": "execute_result"
    }
   ],
   "source": [
    "f.real # This is an attribute"
   ]
  },
  {
   "cell_type": "markdown",
   "metadata": {},
   "source": [
    "### Example with Strings"
   ]
  },
  {
   "cell_type": "code",
   "execution_count": 11,
   "metadata": {},
   "outputs": [
    {
     "name": "stdout",
     "output_type": "stream",
     "text": [
      "<class 'str'>\n"
     ]
    }
   ],
   "source": [
    "str1 = \"hi\"\n",
    "str2 = \"you\"\n",
    "print(type(str1))"
   ]
  },
  {
   "cell_type": "code",
   "execution_count": 12,
   "metadata": {},
   "outputs": [
    {
     "data": {
      "text/plain": [
       "'hiyou'"
      ]
     },
     "execution_count": 12,
     "metadata": {},
     "output_type": "execute_result"
    }
   ],
   "source": [
    "str1 + str2"
   ]
  },
  {
   "cell_type": "markdown",
   "metadata": {},
   "source": [
    "This behavior is possible because the str class defines the **__add__()** method, which is called when the **+** operator is used with strings. This method handles the concatenation of two string objects and returns the result as a new string."
   ]
  },
  {
   "cell_type": "code",
   "execution_count": 13,
   "metadata": {},
   "outputs": [
    {
     "data": {
      "text/plain": [
       "'hiyou'"
      ]
     },
     "execution_count": 13,
     "metadata": {},
     "output_type": "execute_result"
    }
   ],
   "source": [
    "# one_string + second_string -> running this line this thing happens\n",
    "str1.__add__(str2)"
   ]
  },
  {
   "cell_type": "markdown",
   "metadata": {},
   "source": [
    "### Methods and Attributes"
   ]
  },
  {
   "cell_type": "markdown",
   "metadata": {},
   "source": [
    "- **Methods** are **functions** that are associated with objects or classes. The syntax for calling a method is\n",
    "```python\n",
    "object.method()\n",
    "````\n",
    "\n",
    "- **Attributes** are **variables** that belongs to an object or a class. It represents a piece of data associated with the object or class and can hold various types of information.\n",
    "The syntax for calling an attribute is\n",
    "```python\n",
    "object.attribute\n",
    "````"
   ]
  },
  {
   "cell_type": "markdown",
   "metadata": {},
   "source": [
    "### Important: method vs function vs attribute"
   ]
  },
  {
   "cell_type": "markdown",
   "metadata": {},
   "source": [
    "A **method** is a function that is associated with an object or class, used to perform **actions** or manipulate its data (attributes) *versus* a **function** also performs actions, but **is not associated with any object or class**, is a block of reusable code that can be called independently.\n",
    "\n",
    "Syntax:\n",
    "- Method:  `object.method()`\n",
    "- Function:  `function_name()`."
   ]
  },
  {
   "cell_type": "markdown",
   "metadata": {},
   "source": [
    "An **attribute** is a variable that **holds data** associated with an object or class.\n",
    "- Syntax to access: `object.attribute`"
   ]
  },
  {
   "cell_type": "markdown",
   "metadata": {
    "jp-MarkdownHeadingCollapsed": true,
    "tags": []
   },
   "source": [
    "### Mini-recap\n",
    "\n",
    "- Classes: structure, template on which you create the instances\n",
    "    - From which you can create: instances / objects\n",
    "    \n",
    "- Classes and objects have functions called methods that do things\n",
    "    - A string can be added \n",
    "    - We can check what an object can do using dir(object)\n",
    "    \n",
    "- Classes or objects/instances have information -> properties / attributes / variables.\n"
   ]
  },
  {
   "cell_type": "markdown",
   "metadata": {},
   "source": [
    "## Creating Classes and Objects\n",
    "\n",
    "We can create our own Classes to later create our own objects as instances of the class."
   ]
  },
  {
   "cell_type": "markdown",
   "metadata": {
    "lang": "en"
   },
   "source": [
    "To create a class, simply group attributes and methods in the body of a **class** block.\n",
    "\n",
    "\n",
    "Let's create a simple Student class that represents a student's information (`attributes` in `class` jargon), such as their name, age, and list of courses they are enrolled in, and they will be able to *perform actions* through functions that we will call `methods` (again, `class` jargon). This example could be useful for data analytics in educational settings."
   ]
  },
  {
   "cell_type": "markdown",
   "metadata": {},
   "source": [
    "1. A class is defined using the `class` keyword followed by the class name (conventionally written in CamelCase).\n",
    "\n",
    "```python\n",
    "class MyClassName:\n",
    "    ...\n",
    "```\n"
   ]
  },
  {
   "cell_type": "code",
   "execution_count": 14,
   "metadata": {},
   "outputs": [
    {
     "ename": "SyntaxError",
     "evalue": "unexpected EOF while parsing (<ipython-input-14-6116a1dd6729>, line 4)",
     "output_type": "error",
     "traceback": [
      "\u001b[1;36m  File \u001b[1;32m\"<ipython-input-14-6116a1dd6729>\"\u001b[1;36m, line \u001b[1;32m4\u001b[0m\n\u001b[1;33m    # here goes the code\u001b[0m\n\u001b[1;37m                        ^\u001b[0m\n\u001b[1;31mSyntaxError\u001b[0m\u001b[1;31m:\u001b[0m unexpected EOF while parsing\n"
     ]
    }
   ],
   "source": [
    "# Define the Student class using the class keyword\n",
    "\n",
    "class Student: # Student is the name of the class\n",
    "    # here goes the code"
   ]
  },
  {
   "cell_type": "markdown",
   "metadata": {},
   "source": [
    "2. Inside the class, define the `__init__() ` method to initialize object attributes.\n",
    "\n",
    "```python\n",
    "class MyClassName:\n",
    "    def __init__(self, param1, param2, ...):\n",
    "        self.param_name = param1\n",
    "        self.param_name2 = param2\n",
    "```\n",
    "\n",
    "The __init__() method is a special method that runs when a new object is created from the class. \n",
    "- It takes two parameters: \n",
    "    - self: a reference to the current object / instance of the class, helps a class remember which object it is working with. \n",
    "    - the parameters that will be saved as attributes, for example, name, age, and a list of courses, that we want to initialize for each student.\n",
    "- The reason we have two underscores before and after the method name is to indicate that this function is internal to the object and should not be called from outside the object.\n",
    "\n",
    "\n",
    "Note - more on `self`: Imagine you have a blueprint for making cookies, and you want each cookie to have its own unique shape and taste. `self` is like a name tag that helps the blueprint know which cookie it should work with. So, when you create an object from the class, `self` makes sure that the correct cookie gets the right shape and taste, and it also allows the cookie to do things like telling you its shape or taste. "
   ]
  },
  {
   "cell_type": "code",
   "execution_count": null,
   "metadata": {},
   "outputs": [],
   "source": [
    "class Student:\n",
    "    def __init__(self, name, age): # special method for initializing attributes\n",
    "        # code here\n",
    "    # more code here"
   ]
  },
  {
   "cell_type": "markdown",
   "metadata": {},
   "source": [
    "Inside the __init__() method, set the instance attributes name, age, and an empty list courses:"
   ]
  },
  {
   "cell_type": "code",
   "execution_count": null,
   "metadata": {},
   "outputs": [],
   "source": [
    "class Student:\n",
    "    def __init__(self, name, age):\n",
    "        self.name = name # attribute name \n",
    "        self.age = age # attribute age \n",
    "        self.courses = [] # attribute courses \n",
    "\n",
    "    # more code here"
   ]
  },
  {
   "cell_type": "markdown",
   "metadata": {},
   "source": [
    "These instance attributes will hold the student's name, age, and a list of courses they are enrolled in. Each instance of the class will have its own set of these attributes.\n",
    "\n",
    "This means, everytime we create a new object, we will create it with different values for these attributes, since each student has a different name, age, and enrolled courses."
   ]
  },
  {
   "cell_type": "markdown",
   "metadata": {},
   "source": [
    "3. Define the methods.\n",
    "```python\n",
    "class MyClassName:\n",
    "    def __init__(self, param1, param2, ...):\n",
    "        self.param_name = param1\n",
    "        self.param_name2 = param2\n",
    "    def my_method(self):\n",
    "        ...\n",
    "```"
   ]
  },
  {
   "cell_type": "markdown",
   "metadata": {},
   "source": [
    "Define the add_course() method to add courses to a student's list. Inside the add_course() method, append the course to the courses list:"
   ]
  },
  {
   "cell_type": "code",
   "execution_count": null,
   "metadata": {},
   "outputs": [],
   "source": [
    "class Student:\n",
    "    def __init__(self, name, age):\n",
    "        self.name = name \n",
    "        self.age = age\n",
    "        self.courses = []\n",
    "    \n",
    "    def add_course(self, course): # this is a method \n",
    "        self.courses.append(course)\n"
   ]
  },
  {
   "cell_type": "markdown",
   "metadata": {},
   "source": [
    "This method takes two parameters: self (again, a reference to the current instance of the class) and the course we want to add."
   ]
  },
  {
   "cell_type": "markdown",
   "metadata": {
    "lang": "en"
   },
   "source": [
    "**watch out** 👀\n",
    "If we modify a class and add attributes or methods, we have to recreate the object so that it is initialized with those attributes and has those methods."
   ]
  },
  {
   "cell_type": "markdown",
   "metadata": {},
   "source": [
    "We can define another method, display_info(), to display the student's information and enrolled courses:"
   ]
  },
  {
   "cell_type": "code",
   "execution_count": null,
   "metadata": {},
   "outputs": [],
   "source": [
    "class Student:\n",
    "    def __init__(self, name, age):\n",
    "        self.name = name \n",
    "        self.age = age\n",
    "        self.courses = []\n",
    "    \n",
    "    def add_course(self, course): # this is a method of class Student\n",
    "        self.courses.append(course)\n",
    "    \n",
    "    def display_info(self):\n",
    "        print(f\"Name: {self.name}\") # we access the class attribute with self.attribute\n",
    "        print(f\"Age: {self.age}\")\n",
    "        print(\"Courses Enrolled:\")\n",
    "        for course in self.courses:\n",
    "            print(f\"- {course}\")\n"
   ]
  },
  {
   "cell_type": "markdown",
   "metadata": {},
   "source": [
    "## Creating Objects (Instances)\n",
    "\n",
    "After defining the class, we can create objects (instances) based on the class by calling the class as if it were a function.\n",
    "During object creation, we pass values for the attributes defined in the __init__() method.\n",
    "Each object becomes a unique instance of the class, with its own attribute values.\n"
   ]
  },
  {
   "cell_type": "code",
   "execution_count": null,
   "metadata": {},
   "outputs": [],
   "source": [
    "# Creating Student objects\n",
    "student1 = Student(\"Alice\", 20)\n",
    "student2 = Student(\"Bob\", 22)"
   ]
  },
  {
   "cell_type": "markdown",
   "metadata": {
    "lang": "en"
   },
   "source": [
    "What did `self` do? Remember, *self: a reference to the current object / instance of the class, helps a class remember which object it is working with*. It indicates that the data we are entering here (\"Alice\", 20) is for the object we are creating (*student1*). "
   ]
  },
  {
   "cell_type": "code",
   "execution_count": null,
   "metadata": {},
   "outputs": [],
   "source": [
    "print(type(student1))"
   ]
  },
  {
   "cell_type": "code",
   "execution_count": null,
   "metadata": {},
   "outputs": [],
   "source": [
    "isinstance(student1, Student)"
   ]
  },
  {
   "cell_type": "code",
   "execution_count": null,
   "metadata": {},
   "outputs": [],
   "source": [
    "dir(student1)"
   ]
  },
  {
   "cell_type": "markdown",
   "metadata": {},
   "source": [
    "## Accessing Attributes and Methods\n",
    "\n",
    "To access the attributes of an object, we use dot notation (object.attribute) to retrieve or modify its values.\n",
    "To call methods associated with an object, we use dot notation (object.method())."
   ]
  },
  {
   "cell_type": "code",
   "execution_count": null,
   "metadata": {},
   "outputs": [],
   "source": [
    "student1.name # This is an attribute"
   ]
  },
  {
   "cell_type": "markdown",
   "metadata": {},
   "source": [
    "Use the add_course() method to add courses for each student:"
   ]
  },
  {
   "cell_type": "code",
   "execution_count": null,
   "metadata": {},
   "outputs": [],
   "source": [
    "# Adding courses for students\n",
    "student1.add_course(\"Mathematics\") # This is a method\n",
    "student1.add_course(\"History\")\n",
    "student2.add_course(\"Computer Science\")\n"
   ]
  },
  {
   "cell_type": "markdown",
   "metadata": {},
   "source": [
    "Finally, display the information for each student using the display_info() method:"
   ]
  },
  {
   "cell_type": "code",
   "execution_count": null,
   "metadata": {},
   "outputs": [],
   "source": [
    "# Displaying information for students\n",
    "student1.display_info() # This is a method\n",
    "print(\"\\n\")\n",
    "student2.display_info()\n"
   ]
  },
  {
   "cell_type": "markdown",
   "metadata": {},
   "source": [
    "## More"
   ]
  },
  {
   "cell_type": "markdown",
   "metadata": {
    "lang": "en"
   },
   "source": [
    "### Default attributes\n",
    "\n",
    "We can provide default values for attributes to ensure that if no values are provided during the instance creation, the attributes will be initialized with these default values. This ensures that the object will still be properly initialized even if some attributes are not explicitly provided."
   ]
  },
  {
   "cell_type": "markdown",
   "metadata": {},
   "source": [
    "We will add a parameter *email* in the init function with a default value, save it as an attribute with `self.email = email` and print it in display_info."
   ]
  },
  {
   "cell_type": "code",
   "execution_count": null,
   "metadata": {},
   "outputs": [],
   "source": [
    "class Student:\n",
    "    def __init__(self, name, age, email=\"NA\"): # we add default value for email\n",
    "        self.name = name \n",
    "        self.age = age\n",
    "        self.courses = []\n",
    "        self.email = email # save it as an attribute\n",
    "    \n",
    "    def add_course(self, course): \n",
    "        self.courses.append(course)\n",
    "    \n",
    "    def display_info(self):\n",
    "        print(f\"Name: {self.name}\") \n",
    "        print(f\"Age: {self.age}\")\n",
    "        print(\"Courses Enrolled:\")\n",
    "        for course in self.courses:\n",
    "            print(f\"- {course}\")\n",
    "        print(f\"Email: {self.email}\")  # we print the email as well"
   ]
  },
  {
   "cell_type": "code",
   "execution_count": null,
   "metadata": {},
   "outputs": [],
   "source": [
    "student1 = Student(\"Alice\", 20, \"alice@gmail.com\")\n",
    "student2 = Student(\"Bob\", 22)"
   ]
  },
  {
   "cell_type": "code",
   "execution_count": null,
   "metadata": {},
   "outputs": [],
   "source": [
    "# Displaying information for students\n",
    "student1.display_info() # This is a method\n",
    "print(\"\\n\")\n",
    "student2.display_info()"
   ]
  },
  {
   "cell_type": "markdown",
   "metadata": {},
   "source": [
    "### Instance vs. Class Attributes and Methods"
   ]
  },
  {
   "cell_type": "markdown",
   "metadata": {},
   "source": [
    "In Python, classes can have both instance attributes/methods and class attributes/methods. \n",
    "\n",
    "1. Instance Attributes and Methods:\n",
    "- Instance attributes are specific to each object (instance) of the class. They hold data unique to each instance.\n",
    "- Instance methods are functions defined inside the class, and they can access and modify instance attributes.\n",
    "- These are what we've seen until now.\n",
    "\n",
    "Example:\n",
    "\n",
    "```python\n",
    "class Dog:\n",
    "    def __init__(self, name, age):\n",
    "        self.name = name\n",
    "        self.age = age\n",
    "\n",
    "    def bark(self):\n",
    "        print(f\"{self.name} says: Woof woof!\")\n",
    "\n",
    "# Creating two Dog objects\n",
    "dog1 = Dog(\"Buddy\", 3)\n",
    "dog2 = Dog(\"Max\", 2)\n",
    "\n",
    "# Accessing instance attributes\n",
    "print(dog1.name)  # Output: Buddy\n",
    "print(dog2.age)   # Output: 2\n",
    "\n",
    "# Calling instance method\n",
    "dog1.bark()       # Output: Buddy says: Woof woof!\n",
    "```\n",
    "\n",
    "In this example, each Dog object (`dog1` and `dog2`) has its own `name` and `age` attributes. The `bark()` method can access and use these attributes to make each dog bark with its name.\n",
    "\n",
    "2. Class Attributes and Methods:\n",
    "\n",
    "- Class attributes are shared by all instances of the class. They store data common to all objects of the class.\n",
    "- Class methods are decorated with `@classmethod` and can access and modify class attributes.\n",
    "\n",
    "Example:\n",
    "\n",
    "```python\n",
    "class Circle:\n",
    "    pi = 3.14159\n",
    "\n",
    "    def __init__(self, radius):\n",
    "        self.radius = radius\n",
    "\n",
    "    @classmethod\n",
    "    def get_pi(cls):\n",
    "        return cls.pi\n",
    "\n",
    "# Creating Circle objects\n",
    "circle1 = Circle(5)\n",
    "circle2 = Circle(8)\n",
    "\n",
    "# Accessing class attribute\n",
    "print(circle1.pi)  # Output: 3.14159\n",
    "\n",
    "# Calling class method\n",
    "print(Circle.get_pi())  # Output: 3.14159\n",
    "```\n",
    "\n",
    "In this example, `pi` is a class attribute shared by all Circle objects. The `get_pi()` method is a class method that can access and return the value of `pi`. We call this method both using an instance (`circle1.get_pi()`) and the class itself (`Circle.get_pi()`), and both ways yield the same result."
   ]
  },
  {
   "cell_type": "markdown",
   "metadata": {},
   "source": [
    "## 💡 Check for understanding"
   ]
  },
  {
   "cell_type": "markdown",
   "metadata": {
    "lang": "en"
   },
   "source": [
    "### Easy exercise\n",
    "Kata --> https://www.codewars.com/kata/53f0f358b9cb376eca001079/train/python\n",
    "\n",
    "You can ignore the \"object\" in the code for now (`class Ball(object)`)"
   ]
  },
  {
   "cell_type": "code",
   "execution_count": null,
   "metadata": {},
   "outputs": [],
   "source": [
    "# your code here"
   ]
  },
  {
   "cell_type": "markdown",
   "metadata": {},
   "source": [
    "### Medium exercise"
   ]
  },
  {
   "cell_type": "markdown",
   "metadata": {},
   "source": [
    "Kata --> https://www.codewars.com/kata/55b75fcf67e558d3750000a3"
   ]
  },
  {
   "cell_type": "code",
   "execution_count": null,
   "metadata": {},
   "outputs": [],
   "source": [
    "# your code here"
   ]
  },
  {
   "cell_type": "markdown",
   "metadata": {
    "lang": "en"
   },
   "source": [
    "# Summary"
   ]
  },
  {
   "cell_type": "markdown",
   "metadata": {
    "lang": "en"
   },
   "source": [
    "- **Class**: hink of the class as the cookie mold. With the class, we can generate instances or objects. For example: `def MyClass:`\n",
    "- **Object**: The cookie we generated. Each object has different characteristics but under the same pattern as the class. `my_object = MyClass(...)`\n",
    "- **Instance**: Same as object, it's a synonym :)\n",
    "- **Instance/Object Attributes**: The different ingredients of each object. They are defined as variables inside the __init__ function, using the values from the paramters of that function. Are saved as data when we instantiate an object by calling the class.\n",
    "- **Class attribute**: Variables that belong to the class and that will be the same in all objects.\n",
    "- **Method**: Functions that do things, associated to the class. We studied object/instance methods, if you want to look into class methods, look into [class methods](https://www.programiz.com/python-programming/methods/built-in/classmethod#:~:text=A%20class%20method%20is%20a,just%20deals%20with%20the%20parameters)."
   ]
  },
  {
   "cell_type": "markdown",
   "metadata": {},
   "source": [
    "# Extra: Inheritance"
   ]
  },
  {
   "cell_type": "markdown",
   "metadata": {},
   "source": [
    "\n",
    "![miniyoda](https://media.giphy.com/media/j0eRJzyW7XjMpu1Pqd/giphy.gif)"
   ]
  },
  {
   "cell_type": "markdown",
   "metadata": {},
   "source": [
    "In object-oriented programming, class inheritance allows us to create a new class based on an existing class, known as the base or **parent class**. \n",
    "\n",
    "The new class, called the derived or **child class**, inherits the attributes and methods of the parent class, allows us to override them, and can also have its own unique attributes and methods."
   ]
  },
  {
   "cell_type": "markdown",
   "metadata": {
    "lang": "en"
   },
   "source": [
    "The fundamental advantage that inheritance brings to programming is the ability to reuse code. Thus, a set of classes that share attributes and methods can inherit from a superclass where those methods and attributes are defined."
   ]
  },
  {
   "cell_type": "markdown",
   "metadata": {},
   "source": [
    "![](https://github.com/data-bootcamp-v4/lessons/blob/main/img/inheritance.png?raw=true)"
   ]
  },
  {
   "cell_type": "markdown",
   "metadata": {},
   "source": [
    "## Inheriting Methods"
   ]
  },
  {
   "cell_type": "markdown",
   "metadata": {
    "lang": "en"
   },
   "source": [
    "Lets look at some possibilities:\n",
    "\n",
    "- Method defined in the `parent`, but not in the `child`\n",
    "\n",
    "    In this case, the child will inherit the parent's method, it will work exactly the same and there is no need to override it.\n",
    "\n",
    "- Method defined in `Child`, but not in Parent\n",
    "\n",
    "    The method only belongs to the child. Inheritance is one way.\n",
    "\n",
    "- Method defined in \"both\".\n",
    "\n",
    "    The method written in the `Child` class will override the one previously defined in Parent.\n",
    "\n",
    "    However, if we want to use the original method and just add something else to it, we can always refer to the original (parent) method with `super()`. "
   ]
  },
  {
   "cell_type": "markdown",
   "metadata": {},
   "source": [
    "## Super() method"
   ]
  },
  {
   "cell_type": "markdown",
   "metadata": {},
   "source": [
    "The `super()` function allows us to call any method of the parent class. \n",
    "\n",
    "Just remember to call the `super()` class on the new `Child class`to ensure all the attributes of the `Parent class` are properly initialized."
   ]
  },
  {
   "cell_type": "markdown",
   "metadata": {},
   "source": [
    "## Example\n",
    "\n",
    "Let's create a basic example using a Person class as the parent class and modify the previous Student class so it becomes the child class to demonstrate class inheritance:"
   ]
  },
  {
   "cell_type": "code",
   "execution_count": null,
   "metadata": {},
   "outputs": [],
   "source": [
    "# Parent class (base class)\n",
    "class Person:\n",
    "    def __init__(self, name, age):\n",
    "        self.name = name\n",
    "        self.age = age\n",
    "\n",
    "    def say_hello(self):\n",
    "        return f\"Hello, my name is {self.name}.\"\n",
    "    \n",
    "    def say_goodbye(self):\n",
    "        return f\"Goodbye, my name is {self.name}.\""
   ]
  },
  {
   "cell_type": "code",
   "execution_count": null,
   "metadata": {},
   "outputs": [],
   "source": [
    "# Child class (derived class) inherits from Person\n",
    "class Student(Person): # Look here at (Person)\n",
    "    def __init__(self, name, age, email=\"NA\"): \n",
    "        super().__init__(name, age)  # Calling the constructor of the parent class\n",
    "        self.courses = []\n",
    "        self.email = email # Suppose its a student email\n",
    "    \n",
    "    def say_hello(self):  # Overriding the say_hello() method of the parent class\n",
    "        return super().say_hello()+f\" and my student email is {self.email}.\"\n",
    "    \n",
    "    # We don't override say_goodbye, we don't mention it here\n",
    "    \n",
    "    def add_course(self, course): \n",
    "        self.courses.append(course)\n",
    "    \n",
    "    def display_info(self):\n",
    "        print(f\"Name: {self.name}\") \n",
    "        print(f\"Age: {self.age}\")\n",
    "        print(\"Courses Enrolled:\")\n",
    "        for course in self.courses:\n",
    "            print(f\"- {course}\")\n",
    "        print(f\"Email: {self.email}\")  # we print the email as well\n"
   ]
  },
  {
   "cell_type": "code",
   "execution_count": null,
   "metadata": {},
   "outputs": [],
   "source": [
    "# Creating objects of both classes\n",
    "person1 = Person(\"Alice\", 30) \n",
    "student1 = Student(\"Bob\", 20, \"bob@gmail.com\")\n",
    "\n",
    "# Calling methods from the parent and child classes\n",
    "print(person1.say_hello())   # uses parent say_hello\n",
    "print(student1.say_hello())  # uses child say_hello"
   ]
  },
  {
   "cell_type": "code",
   "execution_count": null,
   "metadata": {},
   "outputs": [],
   "source": [
    "print(person1.say_goodbye())   # uses parent say_goodbye\n",
    "print(student1.say_goodbye())  # uses parent say_goodbye"
   ]
  },
  {
   "cell_type": "code",
   "execution_count": null,
   "metadata": {},
   "outputs": [],
   "source": [
    "student1.add_course(\"Math\")"
   ]
  },
  {
   "cell_type": "code",
   "execution_count": null,
   "metadata": {},
   "outputs": [],
   "source": [
    "person1.add_course(\"Math\") #This gives error as `add_course` is not defined in the Parent class (the Person class)"
   ]
  },
  {
   "cell_type": "markdown",
   "metadata": {
    "lang": "en"
   },
   "source": [
    "## Furthermaterials\n",
    "\n",
    "- Youtube Tutorial by [Corey Schafer](https://www.youtube.com/watch?v=ZDa-Z5JzLYM)\n",
    "- [Real Python](https://docs.hektorprofe.net/python/object-oriented-programming/classes-and-objects/)\n",
    "- [Interesting read](https://medium.com/@shaistha24/functional-programming-vs-object-oriented-programming-oop-which-is-better-82172e53a526) --> OOP vs Functional programming"
   ]
  },
  {
   "cell_type": "markdown",
   "metadata": {
    "lang": "en",
    "tags": []
   },
   "source": [
    "### Advanced Methods @classmethod @staticmethod\n",
    "* [Real Python - @classmethod/@stathicmethod](https://realpython.com/instance-class-and-static-methods-demystified/). Advanced Python with decorators (we'll mention them later)"
   ]
  }
 ],
 "metadata": {
  "kernelspec": {
   "display_name": "Python 3",
   "language": "python",
   "name": "python3"
  },
  "language_info": {
   "codemirror_mode": {
    "name": "ipython",
    "version": 3
   },
   "file_extension": ".py",
   "mimetype": "text/x-python",
   "name": "python",
   "nbconvert_exporter": "python",
   "pygments_lexer": "ipython3",
   "version": "3.7.4"
  },
  "toc": {
   "base_numbering": 1,
   "nav_menu": {},
   "number_sections": true,
   "sideBar": true,
   "skip_h1_title": false,
   "title_cell": "Table of Contents",
   "title_sidebar": "Contents",
   "toc_cell": true,
   "toc_position": {},
   "toc_section_display": true,
   "toc_window_display": false
  }
 },
 "nbformat": 4,
 "nbformat_minor": 5
}
