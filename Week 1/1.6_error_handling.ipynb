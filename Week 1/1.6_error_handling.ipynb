{
 "cells": [
  {
   "cell_type": "markdown",
   "metadata": {
    "toc": true
   },
   "source": [
    "<h1>Table of Contents<span class=\"tocSkip\"></span></h1>\n",
    "<div class=\"toc\"><ul class=\"toc-item\"><li><span><a href=\"#Error-Handling\" data-toc-modified-id=\"Error-Handling-1\"><span class=\"toc-item-num\">1&nbsp;&nbsp;</span>Error Handling</a></span><ul class=\"toc-item\"><li><span><a href=\"#Different-Types-of-Errors-in-Python\" data-toc-modified-id=\"Different-Types-of-Errors-in-Python-1.1\"><span class=\"toc-item-num\">1.1&nbsp;&nbsp;</span>Different Types of Errors in Python</a></span><ul class=\"toc-item\"><li><span><a href=\"#Attribute-Error\" data-toc-modified-id=\"Attribute-Error-1.1.1\"><span class=\"toc-item-num\">1.1.1&nbsp;&nbsp;</span>Attribute Error</a></span></li><li><span><a href=\"#Index-Error\" data-toc-modified-id=\"Index-Error-1.1.2\"><span class=\"toc-item-num\">1.1.2&nbsp;&nbsp;</span>Index Error</a></span></li><li><span><a href=\"#Key-Error\" data-toc-modified-id=\"Key-Error-1.1.3\"><span class=\"toc-item-num\">1.1.3&nbsp;&nbsp;</span>Key Error</a></span></li><li><span><a href=\"#Type-Error\" data-toc-modified-id=\"Type-Error-1.1.4\"><span class=\"toc-item-num\">1.1.4&nbsp;&nbsp;</span>Type Error</a></span></li><li><span><a href=\"#Value-Error\" data-toc-modified-id=\"Value-Error-1.1.5\"><span class=\"toc-item-num\">1.1.5&nbsp;&nbsp;</span>Value Error</a></span></li></ul></li><li><span><a href=\"#Error-handling\" data-toc-modified-id=\"Error-handling-1.2\"><span class=\"toc-item-num\">1.2&nbsp;&nbsp;</span>Error handling</a></span><ul class=\"toc-item\"><li><span><a href=\"#Except-with-no-specific-exception-type\" data-toc-modified-id=\"Except-with-no-specific-exception-type-1.2.1\"><span class=\"toc-item-num\">1.2.1&nbsp;&nbsp;</span>Except with no specific exception type</a></span></li><li><span><a href=\"#Saving-the-error-with-the-alias-as\" data-toc-modified-id=\"Saving-the-error-with-the-alias-as-1.2.2\"><span class=\"toc-item-num\">1.2.2&nbsp;&nbsp;</span>Saving the error with the alias <code>as</code></a></span></li></ul></li><li><span><a href=\"#Raising-errors\" data-toc-modified-id=\"Raising-errors-1.3\"><span class=\"toc-item-num\">1.3&nbsp;&nbsp;</span>Raising errors</a></span></li><li><span><a href=\"#💡-Check-for-understanding\" data-toc-modified-id=\"💡-Check-for-understanding-1.4\"><span class=\"toc-item-num\">1.4&nbsp;&nbsp;</span>💡 Check for understanding</a></span></li><li><span><a href=\"#Summary\" data-toc-modified-id=\"Summary-1.5\"><span class=\"toc-item-num\">1.5&nbsp;&nbsp;</span>Summary</a></span></li><li><span><a href=\"#Extra:-Data-validation-with-assert\" data-toc-modified-id=\"Extra:-Data-validation-with-assert-1.6\"><span class=\"toc-item-num\">1.6&nbsp;&nbsp;</span>Extra: Data validation with <code>assert</code></a></span></li></ul></li></ul></div>"
   ]
  },
  {
   "cell_type": "markdown",
   "metadata": {},
   "source": [
    "# Error Handling"
   ]
  },
  {
   "cell_type": "markdown",
   "metadata": {},
   "source": [
    "![elgif](https://media.giphy.com/media/WhFfFPCEDXpBe/giphy.gif)"
   ]
  },
  {
   "cell_type": "markdown",
   "metadata": {},
   "source": [
    "Errors (also known as exceptions) are issues in the code that will interrupt its execution. When an error occurs, the program stops running, and an error message is displayed, indicating the type of error and its location in the code."
   ]
  },
  {
   "cell_type": "code",
   "execution_count": 4,
   "metadata": {},
   "outputs": [
    {
     "name": "stdout",
     "output_type": "stream",
     "text": [
      "-0.5\n",
      "-1.0\n",
      "1.0\n",
      "0.5\n",
      "0.3333333333333333\n",
      "0.25\n"
     ]
    }
   ],
   "source": [
    "for i in range(-2, 5): \n",
    "    if i !=0:\n",
    "        print(1/i)"
   ]
  },
  {
   "cell_type": "markdown",
   "metadata": {},
   "source": [
    "- Errors are a specific type of object in Python.\n",
    "- Errors can be intentionally raised using the keyword `raise`.\n",
    "\n",
    "```\n",
    "Raising an error (with raise) involves completely stopping the program.\n",
    "```\n",
    "\n",
    "- Errors often contain a message within them.\n",
    "> This message serves to help the user identify the problem and find a solution. Carefully reading the error messages is always necessary to reach a solution quickly."
   ]
  },
  {
   "cell_type": "code",
   "execution_count": 5,
   "metadata": {},
   "outputs": [
    {
     "ename": "ZeroDivisionError",
     "evalue": "Why do you want to divide by 0?",
     "output_type": "error",
     "traceback": [
      "\u001b[1;31m---------------------------------------------------------------------------\u001b[0m",
      "\u001b[1;31mZeroDivisionError\u001b[0m                         Traceback (most recent call last)",
      "\u001b[1;32m<ipython-input-5-733b53c1b93b>\u001b[0m in \u001b[0;36m<module>\u001b[1;34m\u001b[0m\n\u001b[1;32m----> 1\u001b[1;33m \u001b[1;32mraise\u001b[0m \u001b[0mZeroDivisionError\u001b[0m\u001b[1;33m(\u001b[0m\u001b[1;34m'Why do you want to divide by 0?'\u001b[0m\u001b[1;33m)\u001b[0m\u001b[1;33m\u001b[0m\u001b[1;33m\u001b[0m\u001b[0m\n\u001b[0m",
      "\u001b[1;31mZeroDivisionError\u001b[0m: Why do you want to divide by 0?"
     ]
    }
   ],
   "source": [
    "raise ZeroDivisionError('Why do you want to divide by 0?')"
   ]
  },
  {
   "cell_type": "markdown",
   "metadata": {},
   "source": [
    "## Different Types of Errors in Python\n",
    "\n",
    "There are many different types of errors in Python:\n",
    "\n",
    "- `AttributeError`: Accessing a non-existent attribute of an object.\n",
    "- `ImportError`: Failing to import a module or package.\n",
    "- `ModuleNotFoundError`: Attempting to import a module that doesn't exist.\n",
    "- `IndexError`: Accessing an index that is out of range in a list or string.\n",
    "- `KeyError`: Accessing a non-existent key in a dictionary.\n",
    "- `KeyboardInterrupt`: Interrupting the program's execution with a keyboard input (e.g., pressing Ctrl+C).\n",
    "- `NameError`: Using a variable or function that is not defined.\n",
    "- `SyntaxError`: Having incorrect syntax in the code.\n",
    "- `TypeError`: Performing an operation with incompatible data types.\n",
    "- `ValueError`: Using an incorrect value or type for a function or operation.\n",
    "- `ZeroDivisionError`: Attempting to divide by zero.\n",
    "\n",
    "These are just a few examples, and you can find more in the Python [documentation](https://docs.python.org/3/library/exceptions.html). \n",
    "\n",
    "Each type of error indicates a specific issue that may occur during program execution."
   ]
  },
  {
   "cell_type": "markdown",
   "metadata": {},
   "source": [
    "### Attribute Error"
   ]
  },
  {
   "cell_type": "code",
   "execution_count": 6,
   "metadata": {},
   "outputs": [
    {
     "name": "stdout",
     "output_type": "stream",
     "text": [
      "HELLO, WORLD!\n"
     ]
    },
    {
     "ename": "AttributeError",
     "evalue": "'str' object has no attribute 'age'",
     "output_type": "error",
     "traceback": [
      "\u001b[1;31m---------------------------------------------------------------------------\u001b[0m",
      "\u001b[1;31mAttributeError\u001b[0m                            Traceback (most recent call last)",
      "\u001b[1;32m<ipython-input-6-32c478023292>\u001b[0m in \u001b[0;36m<module>\u001b[1;34m\u001b[0m\n\u001b[0;32m      2\u001b[0m \u001b[0mtext\u001b[0m \u001b[1;33m=\u001b[0m \u001b[1;34m\"Hello, world!\"\u001b[0m\u001b[1;33m\u001b[0m\u001b[1;33m\u001b[0m\u001b[0m\n\u001b[0;32m      3\u001b[0m \u001b[0mprint\u001b[0m\u001b[1;33m(\u001b[0m\u001b[0mtext\u001b[0m\u001b[1;33m.\u001b[0m\u001b[0mupper\u001b[0m\u001b[1;33m(\u001b[0m\u001b[1;33m)\u001b[0m\u001b[1;33m)\u001b[0m   \u001b[1;31m# Output: \"HELLO, WORLD!\"\u001b[0m\u001b[1;33m\u001b[0m\u001b[1;33m\u001b[0m\u001b[0m\n\u001b[1;32m----> 4\u001b[1;33m \u001b[0mprint\u001b[0m\u001b[1;33m(\u001b[0m\u001b[0mtext\u001b[0m\u001b[1;33m.\u001b[0m\u001b[0mage\u001b[0m\u001b[1;33m)\u001b[0m       \u001b[1;31m# Raises AttributeError: 'str' object has no attribute 'age'\u001b[0m\u001b[1;33m\u001b[0m\u001b[1;33m\u001b[0m\u001b[0m\n\u001b[0m",
      "\u001b[1;31mAttributeError\u001b[0m: 'str' object has no attribute 'age'"
     ]
    }
   ],
   "source": [
    "# Example: Trying to access a non-existent attribute of a string\n",
    "text = \"Hello, world!\"\n",
    "print(text.upper())   # Output: \"HELLO, WORLD!\"\n",
    "print(text.age)       # Raises AttributeError: 'str' object has no attribute 'age'"
   ]
  },
  {
   "cell_type": "markdown",
   "metadata": {},
   "source": [
    "### Index Error"
   ]
  },
  {
   "cell_type": "code",
   "execution_count": 7,
   "metadata": {},
   "outputs": [
    {
     "name": "stdout",
     "output_type": "stream",
     "text": [
      "3\n"
     ]
    },
    {
     "ename": "IndexError",
     "evalue": "list index out of range",
     "output_type": "error",
     "traceback": [
      "\u001b[1;31m---------------------------------------------------------------------------\u001b[0m",
      "\u001b[1;31mIndexError\u001b[0m                                Traceback (most recent call last)",
      "\u001b[1;32m<ipython-input-7-6c4767f8a50b>\u001b[0m in \u001b[0;36m<module>\u001b[1;34m\u001b[0m\n\u001b[0;32m      2\u001b[0m \u001b[0mnumbers\u001b[0m \u001b[1;33m=\u001b[0m \u001b[1;33m[\u001b[0m\u001b[1;36m1\u001b[0m\u001b[1;33m,\u001b[0m \u001b[1;36m2\u001b[0m\u001b[1;33m,\u001b[0m \u001b[1;36m3\u001b[0m\u001b[1;33m]\u001b[0m\u001b[1;33m\u001b[0m\u001b[1;33m\u001b[0m\u001b[0m\n\u001b[0;32m      3\u001b[0m \u001b[0mprint\u001b[0m\u001b[1;33m(\u001b[0m\u001b[0mnumbers\u001b[0m\u001b[1;33m[\u001b[0m\u001b[1;36m2\u001b[0m\u001b[1;33m]\u001b[0m\u001b[1;33m)\u001b[0m     \u001b[1;31m# Output: 3\u001b[0m\u001b[1;33m\u001b[0m\u001b[1;33m\u001b[0m\u001b[0m\n\u001b[1;32m----> 4\u001b[1;33m \u001b[0mprint\u001b[0m\u001b[1;33m(\u001b[0m\u001b[0mnumbers\u001b[0m\u001b[1;33m[\u001b[0m\u001b[1;36m5\u001b[0m\u001b[1;33m]\u001b[0m\u001b[1;33m)\u001b[0m     \u001b[1;31m# Raises IndexError: list index out of range\u001b[0m\u001b[1;33m\u001b[0m\u001b[1;33m\u001b[0m\u001b[0m\n\u001b[0m",
      "\u001b[1;31mIndexError\u001b[0m: list index out of range"
     ]
    }
   ],
   "source": [
    "# Example: Accessing an index that is out of range\n",
    "numbers = [1, 2, 3]\n",
    "print(numbers[2])     # Output: 3\n",
    "print(numbers[5])     # Raises IndexError: list index out of range"
   ]
  },
  {
   "cell_type": "markdown",
   "metadata": {},
   "source": [
    "### Key Error"
   ]
  },
  {
   "cell_type": "code",
   "execution_count": 8,
   "metadata": {},
   "outputs": [
    {
     "name": "stdout",
     "output_type": "stream",
     "text": [
      "Alice\n"
     ]
    },
    {
     "ename": "KeyError",
     "evalue": "'gender'",
     "output_type": "error",
     "traceback": [
      "\u001b[1;31m---------------------------------------------------------------------------\u001b[0m",
      "\u001b[1;31mKeyError\u001b[0m                                  Traceback (most recent call last)",
      "\u001b[1;32m<ipython-input-8-d07f26cec1b9>\u001b[0m in \u001b[0;36m<module>\u001b[1;34m\u001b[0m\n\u001b[0;32m      2\u001b[0m \u001b[0mperson\u001b[0m \u001b[1;33m=\u001b[0m \u001b[1;33m{\u001b[0m\u001b[1;34m\"name\"\u001b[0m\u001b[1;33m:\u001b[0m \u001b[1;34m\"Alice\"\u001b[0m\u001b[1;33m,\u001b[0m \u001b[1;34m\"age\"\u001b[0m\u001b[1;33m:\u001b[0m \u001b[1;36m30\u001b[0m\u001b[1;33m}\u001b[0m\u001b[1;33m\u001b[0m\u001b[1;33m\u001b[0m\u001b[0m\n\u001b[0;32m      3\u001b[0m \u001b[0mprint\u001b[0m\u001b[1;33m(\u001b[0m\u001b[0mperson\u001b[0m\u001b[1;33m[\u001b[0m\u001b[1;34m\"name\"\u001b[0m\u001b[1;33m]\u001b[0m\u001b[1;33m)\u001b[0m   \u001b[1;31m# Output: \"Alice\"\u001b[0m\u001b[1;33m\u001b[0m\u001b[1;33m\u001b[0m\u001b[0m\n\u001b[1;32m----> 4\u001b[1;33m \u001b[0mprint\u001b[0m\u001b[1;33m(\u001b[0m\u001b[0mperson\u001b[0m\u001b[1;33m[\u001b[0m\u001b[1;34m\"gender\"\u001b[0m\u001b[1;33m]\u001b[0m\u001b[1;33m)\u001b[0m \u001b[1;31m# Raises KeyError: 'gender'\u001b[0m\u001b[1;33m\u001b[0m\u001b[1;33m\u001b[0m\u001b[0m\n\u001b[0m",
      "\u001b[1;31mKeyError\u001b[0m: 'gender'"
     ]
    }
   ],
   "source": [
    "# Example: Accessing a non-existent key in a dictionary\n",
    "person = {\"name\": \"Alice\", \"age\": 30}\n",
    "print(person[\"name\"])   # Output: \"Alice\"\n",
    "print(person[\"gender\"]) # Raises KeyError: 'gender'\n"
   ]
  },
  {
   "cell_type": "markdown",
   "metadata": {},
   "source": [
    "### Type Error"
   ]
  },
  {
   "cell_type": "code",
   "execution_count": 9,
   "metadata": {},
   "outputs": [
    {
     "ename": "TypeError",
     "evalue": "unsupported operand type(s) for +: 'int' and 'str'",
     "output_type": "error",
     "traceback": [
      "\u001b[1;31m---------------------------------------------------------------------------\u001b[0m",
      "\u001b[1;31mTypeError\u001b[0m                                 Traceback (most recent call last)",
      "\u001b[1;32m<ipython-input-9-de074391cbf5>\u001b[0m in \u001b[0;36m<module>\u001b[1;34m\u001b[0m\n\u001b[0;32m      2\u001b[0m \u001b[0mnum1\u001b[0m \u001b[1;33m=\u001b[0m \u001b[1;36m5\u001b[0m\u001b[1;33m\u001b[0m\u001b[1;33m\u001b[0m\u001b[0m\n\u001b[0;32m      3\u001b[0m \u001b[0mnum2\u001b[0m \u001b[1;33m=\u001b[0m \u001b[1;34m\"10\"\u001b[0m\u001b[1;33m\u001b[0m\u001b[1;33m\u001b[0m\u001b[0m\n\u001b[1;32m----> 4\u001b[1;33m \u001b[0msum_result\u001b[0m \u001b[1;33m=\u001b[0m \u001b[0mnum1\u001b[0m \u001b[1;33m+\u001b[0m \u001b[0mnum2\u001b[0m   \u001b[1;31m# Raises TypeError: unsupported operand type(s) for +: 'int' and 'str'\u001b[0m\u001b[1;33m\u001b[0m\u001b[1;33m\u001b[0m\u001b[0m\n\u001b[0m",
      "\u001b[1;31mTypeError\u001b[0m: unsupported operand type(s) for +: 'int' and 'str'"
     ]
    }
   ],
   "source": [
    "# Example: Performing an operation with incompatible data types\n",
    "num1 = 5\n",
    "num2 = \"10\"\n",
    "sum_result = num1 + num2   # Raises TypeError: unsupported operand type(s) for +: 'int' and 'str'\n"
   ]
  },
  {
   "cell_type": "markdown",
   "metadata": {},
   "source": [
    "### Value Error"
   ]
  },
  {
   "cell_type": "code",
   "execution_count": 10,
   "metadata": {},
   "outputs": [
    {
     "name": "stdout",
     "output_type": "stream",
     "text": [
      "123\n"
     ]
    },
    {
     "ename": "ValueError",
     "evalue": "invalid literal for int() with base 10: 'abc'",
     "output_type": "error",
     "traceback": [
      "\u001b[1;31m---------------------------------------------------------------------------\u001b[0m",
      "\u001b[1;31mValueError\u001b[0m                                Traceback (most recent call last)",
      "\u001b[1;32m<ipython-input-10-47556dffa874>\u001b[0m in \u001b[0;36m<module>\u001b[1;34m\u001b[0m\n\u001b[0;32m      5\u001b[0m \u001b[1;33m\u001b[0m\u001b[0m\n\u001b[0;32m      6\u001b[0m \u001b[0minvalid_str\u001b[0m \u001b[1;33m=\u001b[0m \u001b[1;34m\"abc\"\u001b[0m\u001b[1;33m\u001b[0m\u001b[1;33m\u001b[0m\u001b[0m\n\u001b[1;32m----> 7\u001b[1;33m \u001b[0minvalid_int\u001b[0m \u001b[1;33m=\u001b[0m \u001b[0mint\u001b[0m\u001b[1;33m(\u001b[0m\u001b[0minvalid_str\u001b[0m\u001b[1;33m)\u001b[0m  \u001b[1;31m# Raises ValueError: invalid literal for int() with base 10: 'abc'\u001b[0m\u001b[1;33m\u001b[0m\u001b[1;33m\u001b[0m\u001b[0m\n\u001b[0m",
      "\u001b[1;31mValueError\u001b[0m: invalid literal for int() with base 10: 'abc'"
     ]
    }
   ],
   "source": [
    "# Example: Using an incorrect value or type for a function\n",
    "num_str = \"123\"\n",
    "num_int = int(num_str)   # Convert string to integer\n",
    "print(num_int)           # Output: 123\n",
    "\n",
    "invalid_str = \"abc\"\n",
    "invalid_int = int(invalid_str)  # Raises ValueError: invalid literal for int() with base 10: 'abc'\n"
   ]
  },
  {
   "cell_type": "markdown",
   "metadata": {
    "lang": "en"
   },
   "source": [
    "## Error handling\n",
    "\n",
    "Error handling is an essential aspect of programming, as it allows you to anticipate and manage potential issues that may arise during program execution. \n",
    "\n",
    "In Python, error handling is achieved using try-except blocks, allowing you to gracefully handle exceptions and prevent unexpected program crashes. \n",
    "\n",
    "\n",
    "\n",
    "**Syntax of Try-Except Block:**\n",
    "```python\n",
    "try:\n",
    "    # Code that may raise an exception\n",
    "except SpecificExceptionType:\n",
    "    # Code to handle the specific exception\n",
    "except AnotherExceptionType:\n",
    "    # Code to handle another specific exception\n",
    "...\n",
    "else:\n",
    "    # Code that will run if no exception occurs\n",
    "finally:\n",
    "    # Code that will always run, regardless of exceptions\n",
    "```\n",
    "\n",
    "![](https://github.com/data-bootcamp-v4/lessons/blob/main/img/error-handling.png?raw=true)\n",
    "\n",
    "**Key Concepts:**\n",
    "\n",
    "1. **Exceptions:**\n",
    "   In Python, when an error occurs during program execution, it raises an exception. Exceptions are objects that represent errors and contain information about what went wrong.\n",
    "\n",
    "2. **Try-Except Block:**\n",
    "   The try-except block is used to handle exceptions in Python. The code that may raise an exception is placed inside the `try` block. If an exception occurs, it is caught and handled in the `except` block.\n",
    "\n",
    "3. **Handling Specific Exceptions:**\n",
    "   You can specify the type of exception you want to catch in the `except` block. This allows you to handle different types of errors differently and provide appropriate error messages.\n",
    "\n",
    "4. **The Else Block**:\n",
    "    The else block, if provided, will be executed only if no exceptions occur in the try block. It allows you to include code that should run when the try block completes successfully.\n",
    "\n",
    "5. **Finally Block:**\n",
    "   The `finally` block, if provided, will be executed regardless of whether an exception occurred or not. It is typically used to perform cleanup actions or close resources."
   ]
  },
  {
   "cell_type": "code",
   "execution_count": 11,
   "metadata": {},
   "outputs": [],
   "source": [
    "def divide(a, b):\n",
    "    try:\n",
    "        result = a / b\n",
    "    except ZeroDivisionError:\n",
    "        print(\"Error: Cannot divide by zero.\")\n",
    "        return None\n",
    "    except TypeError:\n",
    "        print(\"Error: Both arguments must be numbers.\")\n",
    "        return None\n",
    "    else:\n",
    "        print(\"Division successful.\")\n",
    "        return result\n",
    "    finally: \n",
    "        print(\"Operation complete.\")"
   ]
  },
  {
   "cell_type": "code",
   "execution_count": 12,
   "metadata": {},
   "outputs": [
    {
     "name": "stdout",
     "output_type": "stream",
     "text": [
      "Division successful.\n",
      "Operation complete.\n",
      "5.0\n"
     ]
    }
   ],
   "source": [
    "# Using the divide function with error handling\n",
    "print(divide(10, 2))    # Output: Division successful. 5.0"
   ]
  },
  {
   "cell_type": "code",
   "execution_count": 13,
   "metadata": {},
   "outputs": [
    {
     "name": "stdout",
     "output_type": "stream",
     "text": [
      "Error: Cannot divide by zero.\n",
      "Operation complete.\n",
      "None\n"
     ]
    }
   ],
   "source": [
    "print(divide(10, 0))    # Output: Error: Cannot divide by zero. None"
   ]
  },
  {
   "cell_type": "code",
   "execution_count": 14,
   "metadata": {},
   "outputs": [
    {
     "name": "stdout",
     "output_type": "stream",
     "text": [
      "Error: Both arguments must be numbers.\n",
      "Operation complete.\n",
      "None\n"
     ]
    }
   ],
   "source": [
    "print(divide(10, '2'))  # Output: Error: Both arguments must be numbers. None"
   ]
  },
  {
   "cell_type": "markdown",
   "metadata": {},
   "source": [
    "### Except with no specific exception type\n",
    "\n",
    "The `except` block with no specific exception type (i.e., a general `except` block) is used to catch any exception that occurs in the `try` block that is not caught by previous `except` blocks with specific exception types.\n",
    "\n",
    "Here's the syntax of a general `except` block:\n",
    "\n",
    "```python\n",
    "try:\n",
    "    # Code that may raise an exception\n",
    "except SpecificExceptionType:\n",
    "    # Code to handle a specific exception\n",
    "except AnotherExceptionType:\n",
    "    # Code to handle another specific exception\n",
    "except:\n",
    "    # Code to handle any other exception (general catch-all)\n",
    "```\n"
   ]
  },
  {
   "cell_type": "code",
   "execution_count": 15,
   "metadata": {},
   "outputs": [],
   "source": [
    "list_1 = [1, 2, 3, 4, 5, \"3\", 50, 700]"
   ]
  },
  {
   "cell_type": "code",
   "execution_count": 16,
   "metadata": {},
   "outputs": [
    {
     "ename": "TypeError",
     "evalue": "can't multiply sequence by non-int of type 'float'",
     "output_type": "error",
     "traceback": [
      "\u001b[1;31m---------------------------------------------------------------------------\u001b[0m",
      "\u001b[1;31mTypeError\u001b[0m                                 Traceback (most recent call last)",
      "\u001b[1;32m<ipython-input-16-a1bbc622e9b3>\u001b[0m in \u001b[0;36m<module>\u001b[1;34m\u001b[0m\n\u001b[0;32m      1\u001b[0m \u001b[0mlist_appended\u001b[0m \u001b[1;33m=\u001b[0m \u001b[1;33m[\u001b[0m\u001b[1;33m]\u001b[0m\u001b[1;33m\u001b[0m\u001b[1;33m\u001b[0m\u001b[0m\n\u001b[0;32m      2\u001b[0m \u001b[1;32mfor\u001b[0m \u001b[0mi\u001b[0m \u001b[1;32min\u001b[0m \u001b[0mlist_1\u001b[0m\u001b[1;33m:\u001b[0m\u001b[1;33m\u001b[0m\u001b[1;33m\u001b[0m\u001b[0m\n\u001b[1;32m----> 3\u001b[1;33m     \u001b[0mlist_appended\u001b[0m\u001b[1;33m.\u001b[0m\u001b[0mappend\u001b[0m\u001b[1;33m(\u001b[0m\u001b[0mi\u001b[0m \u001b[1;33m*\u001b[0m \u001b[1;36m2.5\u001b[0m\u001b[1;33m)\u001b[0m\u001b[1;33m\u001b[0m\u001b[1;33m\u001b[0m\u001b[0m\n\u001b[0m",
      "\u001b[1;31mTypeError\u001b[0m: can't multiply sequence by non-int of type 'float'"
     ]
    }
   ],
   "source": [
    "list_appended = []\n",
    "for i in list_1:\n",
    "    list_appended.append(i * 2.5)"
   ]
  },
  {
   "cell_type": "code",
   "execution_count": 17,
   "metadata": {},
   "outputs": [
    {
     "data": {
      "text/plain": [
       "[2.5, 5.0, 7.5, 10.0, 12.5]"
      ]
     },
     "execution_count": 17,
     "metadata": {},
     "output_type": "execute_result"
    }
   ],
   "source": [
    "list_appended # it stopped appending numbers because of the error"
   ]
  },
  {
   "cell_type": "code",
   "execution_count": 18,
   "metadata": {},
   "outputs": [
    {
     "name": "stdout",
     "output_type": "stream",
     "text": [
      "Something happened here, we should do something else\n"
     ]
    },
    {
     "data": {
      "text/plain": [
       "[2.5, 5.0, 7.5, 10.0, 12.5, 125.0, 1750.0]"
      ]
     },
     "execution_count": 18,
     "metadata": {},
     "output_type": "execute_result"
    }
   ],
   "source": [
    "# With error handling\n",
    "list_1 = [1, 2, 3, 4, 5, \"3\", 50, 700]\n",
    "list_ = []\n",
    "for i in list_1:\n",
    "    try:\n",
    "        list_.append(i * 2.5)\n",
    "    except:\n",
    "        print(\"Something happened here, we should do something else\")\n",
    "list_ # we'll see that it didn't stop appending numbers"
   ]
  },
  {
   "cell_type": "markdown",
   "metadata": {},
   "source": [
    "### Saving the error with the alias `as`\n",
    "\n",
    "We can also save in a variable the error returned by the Exception."
   ]
  },
  {
   "cell_type": "code",
   "execution_count": null,
   "metadata": {},
   "outputs": [],
   "source": [
    "def append_upper(list_):\n",
    "    empty_list = []\n",
    "\n",
    "    for i in range(4):\n",
    "        try:\n",
    "            empty_list.append(list_[i].upper())\n",
    "\n",
    "        except Exception as something_else:\n",
    "            print(type(something_else))\n",
    "            print(something_else)\n",
    "            empty_list.append(\"ERRORRRRR\")\n",
    "            \n",
    "    return empty_list"
   ]
  },
  {
   "cell_type": "code",
   "execution_count": null,
   "metadata": {},
   "outputs": [],
   "source": [
    "append_upper([\"a word\", \"this is another word\", \"another random string\"])"
   ]
  },
  {
   "cell_type": "markdown",
   "metadata": {
    "lang": "en"
   },
   "source": [
    "## Raising errors\n",
    "\n",
    "In Python, you can use the `raise` keyword to intentionally create errors (exceptions). It allows you to handle exceptional cases and provide informative feedback when something unexpected occurs during program execution.\n",
    "\n",
    "**Syntax of Raising Errors:**\n",
    "```python\n",
    "raise ErrorType(\"Optional error message\")\n",
    "```\n"
   ]
  },
  {
   "cell_type": "code",
   "execution_count": null,
   "metadata": {},
   "outputs": [],
   "source": [
    "def calculate_age(year_born):\n",
    "    current_year = 2023\n",
    "    age = current_year - year_born\n",
    "\n",
    "    if age < 0:\n",
    "        raise ValueError(\"Invalid birth year. Year must be in the past.\")\n",
    "\n",
    "    return age"
   ]
  },
  {
   "cell_type": "code",
   "execution_count": null,
   "metadata": {},
   "outputs": [],
   "source": [
    "try:\n",
    "    age = calculate_age(2050)  # Raises ValueError\n",
    "except ValueError as e:\n",
    "    print(\"Error:\", str(e))"
   ]
  },
  {
   "cell_type": "markdown",
   "metadata": {},
   "source": [
    "## 💡 Check for understanding"
   ]
  },
  {
   "cell_type": "markdown",
   "metadata": {},
   "source": [
    "1. Define a function called `calculate_statistics(data)` that takes a list of numerical data as input and returns a dictionary containing the following statistics:\n",
    "   - Mean (average) of the data.\n",
    "   - Median (middle value) of the data.\n",
    "   - Minimum value in the data.\n",
    "   - Maximum value in the data.\n",
    "\n",
    "Use a try-except block to handle possible errors. \n",
    "\n",
    "2. In the main part of the program:\n",
    "   - Prompt the user to enter a list of numerical values separated by spaces.\n",
    "   - Convert the user input into a list of floats using a list comprehension.\n",
    "   - Call the `calculate_statistics` function with the input data and display the calculated statistics in a readable format.\n",
    "\n"
   ]
  },
  {
   "cell_type": "code",
   "execution_count": null,
   "metadata": {},
   "outputs": [],
   "source": [
    "# your code here"
   ]
  },
  {
   "cell_type": "markdown",
   "metadata": {
    "lang": "en"
   },
   "source": [
    "## Summary\n"
   ]
  },
  {
   "cell_type": "markdown",
   "metadata": {},
   "source": [
    "- Exceptions are logical errors that disrupt the flow of your code.\n",
    "- Python uses 'try-except' blocks to prevent the program from breaking when an exception occurs.\n",
    "- These blocks can be customized to handle specific exceptions, like ValueError or TypeError, or can be used generally to catch all exceptions using 'except Exception'.\n",
    "- The 'raise' keyword allows programmers to intentionally trigger exceptions.\n",
    "- This feature is crucial when you need to ensure certain conditions in your code are met. If these conditions aren't met, the exception, coupled with a user-defined message, highlights the problem.\n",
    "- Regardless of your coding environment, whether it's the terminal or a Jupyter notebook, it's essential to read these exception messages. They offer important insights into what went wrong, enabling you to quickly identify and correct errors in your code.\n",
    " "
   ]
  },
  {
   "cell_type": "markdown",
   "metadata": {
    "lang": "en"
   },
   "source": [
    "## Extra: Data validation with `assert`"
   ]
  },
  {
   "cell_type": "markdown",
   "metadata": {
    "lang": "en"
   },
   "source": [
    "Python provides a way to set enforceable conditions, that is, conditions that an object must meet or else an exception will be thrown. It is like a kind of \"safety net\" against possible failures of the programmer. The `assert` statement adds controls for debugging a program. It allows us to express a condition that must always be true, and that, if not, will interrupt the program, generating an exception to handle called AssertionError. The way to call this expression is as follows:\n",
    "```python\n",
    "assert boolean condition\n",
    "```\n",
    "In case the boolean expression is true, assert does nothing. If it is false, it throws an exception. Let's see an example to understand it."
   ]
  },
  {
   "cell_type": "code",
   "execution_count": null,
   "metadata": {},
   "outputs": [],
   "source": [
    "assert 1 == 2, \"condition is not true\""
   ]
  },
  {
   "cell_type": "code",
   "execution_count": null,
   "metadata": {},
   "outputs": [],
   "source": [
    "list_ = [0 , 1, 2, 3, 4, 3]"
   ]
  },
  {
   "cell_type": "code",
   "execution_count": null,
   "metadata": {},
   "outputs": [],
   "source": [
    "assert len(list_) == 5, \"this is not 5\""
   ]
  },
  {
   "cell_type": "code",
   "execution_count": null,
   "metadata": {},
   "outputs": [],
   "source": [
    "result_test = 0\n",
    "result_of_your_function = 255\n",
    "\n",
    "assert result_test == result_of_your_function,  \"0 != 255\"\n",
    "\n",
    "# 0 != 255"
   ]
  },
  {
   "cell_type": "code",
   "execution_count": null,
   "metadata": {},
   "outputs": [],
   "source": [
    "list_ = [1, 2, 3, 4, 5]\n",
    "\n",
    "new_list = []\n",
    "\n",
    "try:\n",
    "    for n in list_:\n",
    "        assert len(list_) > 3 #this is always met\n",
    "        print(list_)\n",
    "        new_list.append(list_.pop())\n",
    "    \n",
    "except AssertionError:\n",
    "        print(\"something\")\n",
    "\n",
    "print(new_list)"
   ]
  }
 ],
 "metadata": {
  "kernelspec": {
   "display_name": "Python 3",
   "language": "python",
   "name": "python3"
  },
  "language_info": {
   "codemirror_mode": {
    "name": "ipython",
    "version": 3
   },
   "file_extension": ".py",
   "mimetype": "text/x-python",
   "name": "python",
   "nbconvert_exporter": "python",
   "pygments_lexer": "ipython3",
   "version": "3.7.4"
  },
  "toc": {
   "base_numbering": 1,
   "nav_menu": {},
   "number_sections": true,
   "sideBar": true,
   "skip_h1_title": false,
   "title_cell": "Table of Contents",
   "title_sidebar": "Contents",
   "toc_cell": true,
   "toc_position": {},
   "toc_section_display": true,
   "toc_window_display": false
  }
 },
 "nbformat": 4,
 "nbformat_minor": 5
}
