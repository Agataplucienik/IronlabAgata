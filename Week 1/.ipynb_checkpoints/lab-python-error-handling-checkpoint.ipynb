{
 "cells": [
  {
   "cell_type": "markdown",
   "metadata": {},
   "source": [
    "# Lab | Error Handling"
   ]
  },
  {
   "cell_type": "markdown",
   "metadata": {},
   "source": [
    "## Exercise: Error Handling for Managing Customer Orders\n",
    "\n",
    "The implementation of your code for managing customer orders assumes that the user will always enter a valid input. \n",
    "\n",
    "For example, we could modify the `initialize_inventory` function to include error handling.\n",
    "   - If the user enters an invalid quantity (e.g., a negative value or a non-numeric value), display an error message and ask them to re-enter the quantity for that product.\n",
    "   - Use a try-except block to handle the error and continue prompting the user until a valid quantity is entered.\n",
    "\n",
    "```python\n",
    "# Step 1: Define the function for initializing the inventory with error handling\n",
    "def initialize_inventory(products):\n",
    "    inventory = {}\n",
    "    for product in products:\n",
    "        valid_quantity = False\n",
    "        while not valid_quantity:\n",
    "            try:\n",
    "                quantity = int(input(f\"Enter the quantity of {product}s available: \"))\n",
    "                if quantity < 0:\n",
    "                    raise ValueError(\"Invalid quantity! Please enter a non-negative value.\")\n",
    "                valid_quantity = True\n",
    "            except ValueError as error:\n",
    "                print(f\"Error: {error}\")\n",
    "        inventory[product] = quantity\n",
    "    return inventory\n",
    "\n",
    "# Or, in another way:\n",
    "\n",
    "def initialize_inventory(products):\n",
    "    inventory = {}\n",
    "    for product in products:\n",
    "        valid_input = False\n",
    "        while not valid_input:\n",
    "            try:\n",
    "                quantity = int(input(f\"Enter the quantity of {product}s available: \"))\n",
    "                if quantity >= 0:\n",
    "                    inventory[product] = quantity\n",
    "                    valid_input = True\n",
    "                else:\n",
    "                    print(\"Quantity cannot be negative. Please enter a valid quantity.\")\n",
    "            except ValueError:\n",
    "                print(\"Invalid input. Please enter a valid quantity.\")\n",
    "    return inventory\n",
    "```\n",
    "\n",
    "Let's enhance your code by implementing error handling to handle invalid inputs.\n",
    "\n",
    "Follow the steps below to complete the exercise:\n",
    "\n",
    "2. Modify the `calculate_total_price` function to include error handling.\n",
    "   - If the user enters an invalid price (e.g., a negative value or a non-numeric value), display an error message and ask them to re-enter the price for that product.\n",
    "   - Use a try-except block to handle the error and continue prompting the user until a valid price is entered.\n",
    "\n",
    "3. Modify the `get_customer_orders` function to include error handling.\n",
    "   - If the user enters an invalid number of orders (e.g., a negative value or a non-numeric value), display an error message and ask them to re-enter the number of orders.\n",
    "   - If the user enters an invalid product name (e.g., a product name that is not in the inventory), or that doesn't have stock available, display an error message and ask them to re-enter the product name. *Hint: you will need to pass inventory as a parameter*\n",
    "   - Use a try-except block to handle the error and continue prompting the user until a valid product name is entered.\n",
    "\n",
    "4. Test your code by running the program and deliberately entering invalid quantities and product names. Make sure the error handling mechanism works as expected.\n"
   ]
  },
  {
   "cell_type": "code",
   "execution_count": 20,
   "metadata": {},
   "outputs": [],
   "source": [
    "def initialize_inventory(products):\n",
    "    inventory = {}\n",
    "    for product in products:\n",
    "        valid_quantity = False\n",
    "        while not valid_quantity:\n",
    "            try:\n",
    "                quantity = int(input(f\"Enter the quantity of {product}s available: \"))\n",
    "                if quantity < 0:\n",
    "                    raise ValueError(\"Invalid quantity! Please enter a non-negative value.\")\n",
    "                valid_quantity = True\n",
    "            except ValueError as error:\n",
    "                print(f\"Error: {error}\")\n",
    "        inventory[product] = quantity\n",
    "    return inventory"
   ]
  },
  {
   "cell_type": "code",
   "execution_count": 2,
   "metadata": {},
   "outputs": [],
   "source": [
    "products=[\"t-shirt\", \"mug\", \"hat\", \"book\", \"keychain\"]"
   ]
  },
  {
   "cell_type": "code",
   "execution_count": 24,
   "metadata": {},
   "outputs": [
    {
     "name": "stdout",
     "output_type": "stream",
     "text": [
      "Enter the quantity of t-shirts available: 5\n",
      "Enter the quantity of mugs available: 6\n",
      "Enter the quantity of hats available: 4\n",
      "Enter the quantity of books available: 2\n",
      "Enter the quantity of keychains available: 7\n"
     ]
    }
   ],
   "source": [
    "inventory=initialize_inventory(products)"
   ]
  },
  {
   "cell_type": "code",
   "execution_count": 4,
   "metadata": {},
   "outputs": [],
   "source": [
    "customer_orders={\"t-shirt\", \"mug\", \"hat\", \"book\"}"
   ]
  },
  {
   "cell_type": "code",
   "execution_count": 5,
   "metadata": {},
   "outputs": [],
   "source": [
    "def total_price(customer_orders):\n",
    "    prices=[]\n",
    "    for product in customer_orders:\n",
    "        valid_quantity = False\n",
    "        while not valid_quantity:\n",
    "        \n",
    "            try:\n",
    "                question=(float(input(f\"How much {product} costs?\")))\n",
    "                if question<1:\n",
    "                    raise ValueError(\"Invalid quantity! Please enter a non-negative value.\")  \n",
    "                valid_quantity=True\n",
    "            except ValueError as error:\n",
    "                    print(f\"Error: {error}\")\n",
    "            prices.append(question)\n",
    "            total_price=sum(prices)\n",
    "    return total_price"
   ]
  },
  {
   "cell_type": "code",
   "execution_count": 6,
   "metadata": {},
   "outputs": [
    {
     "name": "stdout",
     "output_type": "stream",
     "text": [
      "How much t-shirt costs?8.4\n",
      "How much book costs?9.4\n",
      "How much hat costs?-3\n",
      "Error: Invalid quantity! Please enter a non-negative value.\n",
      "How much hat costs?3\n",
      "How much mug costs?apple\n",
      "Error: could not convert string to float: 'apple'\n",
      "How much mug costs?10\n"
     ]
    },
    {
     "data": {
      "text/plain": [
       "30.8"
      ]
     },
     "execution_count": 6,
     "metadata": {},
     "output_type": "execute_result"
    }
   ],
   "source": [
    "total_price(customer_orders)"
   ]
  },
  {
   "cell_type": "code",
   "execution_count": 7,
   "metadata": {},
   "outputs": [],
   "source": [
    "#3"
   ]
  },
  {
   "cell_type": "code",
   "execution_count": 26,
   "metadata": {},
   "outputs": [],
   "source": [
    "get_customer_orders3=[]\n",
    "\n",
    "def get_customer_orders2(inventory):\n",
    "    valid_quantity = False\n",
    "    while not valid_quantity:\n",
    "        try:\n",
    "            answer=int(input(\"How many products would you like to order?\"))\n",
    "            if answer<1:\n",
    "                raise ValueError(\"Invalid quantity! Please enter a non-negative value.\")  \n",
    "            valid_quantity=True\n",
    "        except ValueError as error:\n",
    "                print(f\"Error: {error}\")\n",
    "    \n",
    "    for i in range(answer):\n",
    "        valid_product= False\n",
    "        while not valid_product:\n",
    "            try:\n",
    "                get_customer_orders3.append(input(\"Which product would you like to order?\"))\n",
    "                if i not in inventory.keys():\n",
    "                    raise ValueError(\"Product not in the inventory\")\n",
    "                valid_product=True\n",
    "            except ValueError as error:\n",
    "                print(f\"Error: {error}\")\n",
    "        \n",
    "    return get_customer_orders3"
   ]
  },
  {
   "cell_type": "code",
   "execution_count": null,
   "metadata": {},
   "outputs": [
    {
     "name": "stdout",
     "output_type": "stream",
     "text": [
      "How many products would you like to order?-5\n",
      "Error: Invalid quantity! Please enter a non-negative value.\n",
      "How many products would you like to order?4\n",
      "Which product would you like to order?pikachu\n",
      "Error: Product not in the inventory\n",
      "Which product would you like to order?book\n",
      "Error: Product not in the inventory\n",
      "Which product would you like to order?mug\n",
      "Error: Product not in the inventory\n",
      "Which product would you like to order?hat\n",
      "Error: Product not in the inventory\n",
      "Which product would you like to order?mug\n",
      "Error: Product not in the inventory\n"
     ]
    }
   ],
   "source": [
    "get_customer_orders2(inventory)"
   ]
  }
 ],
 "metadata": {
  "kernelspec": {
   "display_name": "Python 3",
   "language": "python",
   "name": "python3"
  },
  "language_info": {
   "codemirror_mode": {
    "name": "ipython",
    "version": 3
   },
   "file_extension": ".py",
   "mimetype": "text/x-python",
   "name": "python",
   "nbconvert_exporter": "python",
   "pygments_lexer": "ipython3",
   "version": "3.7.4"
  }
 },
 "nbformat": 4,
 "nbformat_minor": 5
}
